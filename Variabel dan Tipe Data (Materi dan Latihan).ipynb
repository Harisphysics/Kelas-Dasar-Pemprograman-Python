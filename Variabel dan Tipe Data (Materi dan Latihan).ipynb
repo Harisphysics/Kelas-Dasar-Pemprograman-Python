{
 "cells": [
  {
   "cell_type": "markdown",
   "metadata": {},
   "source": [
    "# <center>Dasar Pemprograman Python</center>\n",
    "---\n",
    "\n",
    "\n",
    "Halo guys, selamat bergabung dalam pembelajaran python ini.\n",
    "\n",
    "Ini adalah notebook pertama dari beberapa notebook yang akan menemani kalian belajar dasar pemprograman python. Pada bagian ini kalian akan berlatih memberikan perintah untuk melakukan operasi matematika dasar menggunakan bahasa python. Dalam notebook ini berisi beberapa soal untuk mengasah kemampuan kalian dalam menuliskan perintah tersebut. Silahkan di baca petunjuknya dan menuliskan jawaban dari pertanyaan yang diberikan.\n",
    "\n",
    "Selamat mencoba. ^_^\n",
    "\n",
    "---\n"
   ]
  },
  {
   "cell_type": "markdown",
   "metadata": {},
   "source": [
    "## Perintah print\n",
    "\n",
    "Untuk membuat sebuah aplikasi, kita harus bisa berkomunikasi dengan komputer agar komputer dapat menjalankan perintah yang kita berikan. Jika berkomunikasi dengan manusia dapat dilakukan dengan menggunakan beberapa bahasa (misal Indonesia, Inggri, Jawa, dll), sedangkan berkomunikasi dengan komputer maka harus menggunakan bahasa tertetu yang dimengerti oleh komputer. Adapun beberapa contoh bahasa yang dapat dipahami komputer adalah C, C++, C#, Pyhton, Java, Fortran, Go, Julia, dll. Dalam notebook ini kita akan belajar mengenai bahasa pemrograman python.\n",
    "\n",
    "Sebagai bahan latihan, cobalah ikuti instruksi dibawah untuk memberikan perintah kepada komputer agar melakukan operasi penjumlahan dua buah bilangan."
   ]
  },
  {
   "cell_type": "markdown",
   "metadata": {},
   "source": [
    "**Instruksi 1.1** : Perintahkan komputer untuk menghitung penjumlahan dari 20 + 15\n",
    "\n",
    "- Tulis instruksi 20 + 15 pada bagian code editor.\n",
    "- Print hasil penjumlahan tersebut menggunakan perintah ```print()```\n",
    "\n",
    "```python\n",
    "print(20+15)\n",
    "```"
   ]
  },
  {
   "cell_type": "code",
   "execution_count": 1,
   "metadata": {},
   "outputs": [
    {
     "name": "stdout",
     "output_type": "stream",
     "text": [
      "35\n"
     ]
    }
   ],
   "source": [
    "# Tulis jawaban kalian disini\n",
    "print(20+15)"
   ]
  },
  {
   "cell_type": "markdown",
   "metadata": {},
   "source": [
    "---\n",
    "Kita dapat memberikan perintah kepada komputer untuk melakukan lebih dari satu perhitungan\n",
    "\n",
    "\n",
    "---\n",
    "script :\n",
    "```python\n",
    "print(9 + 12)\n",
    "print(20 - 8)\n",
    "print(65 -20)\n",
    "```\n",
    "\n",
    "output :\n",
    "```python\n",
    "21\n",
    "12\n",
    "45\n",
    "```\n",
    "---    \n",
    "**Instruksi 1.2** : Gunakan perintah ``print`` untuk menampilkan hasil perhitungan berikut\n",
    "\n",
    "- 20 + 13\n",
    "- 160 - 98\n",
    "- 16 + 14"
   ]
  },
  {
   "cell_type": "code",
   "execution_count": 2,
   "metadata": {},
   "outputs": [
    {
     "name": "stdout",
     "output_type": "stream",
     "text": [
      "33\n",
      "62\n",
      "30\n"
     ]
    }
   ],
   "source": [
    "# Tuliskan jawaban disini\n",
    "print(20+13)\n",
    "print(160-98)\n",
    "print(16+14)"
   ]
  },
  {
   "cell_type": "markdown",
   "metadata": {},
   "source": [
    "---\n",
    "**Insruksi 1.3** : Buatlah code yang menampilkan perhitungan tiga operasi berikut\n",
    "\n",
    "- print 10 + 19\n",
    "- print 22\n",
    "- print -32"
   ]
  },
  {
   "cell_type": "code",
   "execution_count": 3,
   "metadata": {},
   "outputs": [
    {
     "name": "stdout",
     "output_type": "stream",
     "text": [
      "29\n",
      "22\n",
      "-32\n"
     ]
    }
   ],
   "source": [
    "# Tuliskan jawaban disini\n",
    "print(10+19)\n",
    "print(22)\n",
    "print(-32)"
   ]
  },
  {
   "cell_type": "markdown",
   "metadata": {},
   "source": [
    "---\n",
    "Komputer menjalankan perintah secara berurutan dari baris yang paling atas, kemudian lanjut menjalankan perintah pada baris selanjutnya. Jika ada baris yang kosong maka komputer akan mengabaikannya. Selain baris kosong komputer juga akan mengabaikan perintah yang dimulai dengan karakter ```#```.\n",
    "\n",
    "\n",
    "---\n",
    "script :\n",
    "```python\n",
    "#print(4+3)\n",
    "print(5-1)\n",
    "print(7+1) # Ini akan menghasilkan nilai 8\n",
    "```\n",
    "\n",
    "output :\n",
    "```\n",
    "4\n",
    "```\n",
    "---\n",
    "Pada contoh di atas setiap baris yang dimulai dengan simbol ```#``` maka akan diabaikan oleh komputer. Tanda ```#``` ini disebut dengan komentar.\n",
    "\n",
    "\n",
    "**Instruksi 1.4** : Hilangkan komentar pada code dibawah untuk menampilkan hasil perhitungan."
   ]
  },
  {
   "cell_type": "code",
   "execution_count": 4,
   "metadata": {},
   "outputs": [
    {
     "name": "stdout",
     "output_type": "stream",
     "text": [
      "23\n",
      "11\n",
      "-8\n"
     ]
    }
   ],
   "source": [
    "#Code coba\n",
    "print(10 + 13)\n",
    "print(30-19)\n",
    "print(-8)"
   ]
  },
  {
   "cell_type": "markdown",
   "metadata": {},
   "source": [
    "---\n",
    "\n",
    "Sejauh ini kita baru menggunakan operasi aritmatik dengan menggunakan penjumlahan dan pengurangan. Untuk melakukan operasi perkalian dan pembagian dapat dilakukan dengan cara berikut\n",
    "\n",
    "---\n",
    "script :\n",
    "```python\n",
    "print(4*3)\n",
    "print(16/4)\n",
    "print(3 + 2 * 4)\n",
    "print((3 + 2) * 4)\n",
    "print(3**2)\n",
    "```\n",
    "\n",
    "output :\n",
    "```python\n",
    "12\n",
    "4\n",
    "11\n",
    "20\n",
    "9\n",
    "```\n",
    "---\n",
    "\n",
    "**Instruksi 1.5** : Buatlah code untuk menghitung operasi aritmatik berikut dan tampilkan hasilkannya dengan perintah ``print``\n",
    "\n",
    "- 12 x 17\n",
    "- 76 / 14\n",
    "- $2^{3}$"
   ]
  },
  {
   "cell_type": "code",
   "execution_count": 5,
   "metadata": {},
   "outputs": [
    {
     "name": "stdout",
     "output_type": "stream",
     "text": [
      "204\n",
      "5.428571428571429\n",
      "8\n"
     ]
    }
   ],
   "source": [
    "# Tuliskan jawaban disini\n",
    "print(12*17)\n",
    "print(76/14)\n",
    "print(2**3)"
   ]
  },
  {
   "cell_type": "markdown",
   "metadata": {},
   "source": [
    "## Variabel dan Tipe Data\n",
    "\n",
    "Sebelumnya kita sudah menuliskan code untuk menghitung operasi aritmatik. Selanjutnya kita dapat menyimpan nilai atau hasil perhitungan ke dalam suatu variabel. Cara menyimpang suatu nilai ke dalam suatu variabel adalah sebagai berikut\n",
    "\n",
    "----\n",
    "script :\n",
    "```python\n",
    "hasil = 14\n",
    "print(hasil)\n",
    "\n",
    "```\n",
    "\n",
    "output :\n",
    "```python\n",
    "14\n",
    "```\n",
    "\n",
    "atau kita juga dapat menghitung secara langsung operasi aritmatik dan menyimpannya dalam sebuah variabel, contoh\n",
    "\n",
    "script :\n",
    "```python\n",
    "hasil = (2 + 5) * 2\n",
    "print(hasil)\n",
    "```\n",
    "\n",
    "output :\n",
    "```python\n",
    "14\n",
    "```\n",
    "----\n",
    "\n",
    "**Instruksi 1.6** : \n",
    "- Simpanlah hasil perhitungan (40 - 12)* 44 ke dalam variabel ``hasil``\n",
    "- Print ``hasil``"
   ]
  },
  {
   "cell_type": "code",
   "execution_count": 6,
   "metadata": {},
   "outputs": [
    {
     "name": "stdout",
     "output_type": "stream",
     "text": [
      "1232\n"
     ]
    }
   ],
   "source": [
    "# Tuliskan jawaban disini\n",
    "hasil = (40-12)*44\n",
    "print(hasil)\n"
   ]
  },
  {
   "cell_type": "markdown",
   "metadata": {},
   "source": [
    "---\n",
    "Sebelumnya kita menyimpan ``14`` ke dalam variabel ``hasil``\n",
    "\n",
    "```python\n",
    "hasil = 14\n",
    "```\n",
    "\n",
    "variabel tersebut dapat kita gunakan untuk memanggil nilai yang mengisi suatu variabel. Dan selanjutnya dapat dilakukan operasi aritmatik, contoh\n",
    "\n",
    "**script :**\n",
    "```python\n",
    "hasil = 14\n",
    "print(hasil)\n",
    "print(hasil + 6)\n",
    "```\n",
    "\n",
    "**output :**\n",
    "```python\n",
    "14\n",
    "20\n",
    "```\n",
    "---\n",
    "**Intruksi 1.7** :\n",
    "- Simpanlah nilai 20 didalam variabel yang diberi nama ``nilai``\n",
    "- Simpanlah hasil (22 - 12) * 13 kedalam variabel yang diberik nama ``hasil``\n",
    "- Gunakan perintah ``print`` untuk menampilkan :\n",
    "    \n",
    "    a. Nilai yang disimpan dalam variabel ``nilai``\n",
    "    \n",
    "    b. Nilai yang disimpan dalam variabel ``hasil``\n",
    "    \n",
    "    c. Hasil penjumlahan ``nilai`` dan ``hasil``"
   ]
  },
  {
   "cell_type": "code",
   "execution_count": 7,
   "metadata": {},
   "outputs": [
    {
     "name": "stdout",
     "output_type": "stream",
     "text": [
      "20\n",
      "130\n",
      "150\n"
     ]
    }
   ],
   "source": [
    "# Tuliskan jawaban disini\n",
    "nilai = 20\n",
    "hasil = (22-12)*13\n",
    "print(nilai)\n",
    "print(hasil)\n",
    "print(nilai + hasil)"
   ]
  },
  {
   "cell_type": "markdown",
   "metadata": {},
   "source": [
    "Untuk menuliskan variabel ada beberapa aturan yang harus diikuti yaitu :\n",
    "\n",
    "- Hanya diperbolehkan menggunakan huruf, angka, dan underscore, sedangkan karakter lainnya seperti (spasi, koma, strip, apostrope, dll) tidak diperbolehkan\n",
    "- Nama variabel tidak boleh dimulai dengan angka\n",
    "\n",
    "```python\n",
    "data_01_04_2010    (valid)\n",
    "HASIL_1            (valid)\n",
    "hAsIl1             (valid)\n",
    "1hasil             (invalid)    karena dimulai angka\n",
    "data lama          (invalid)    karena ada spasi\n",
    "harga_$            (invalid)    karena ada simbol\n",
    "```\n",
    "\n",
    "Nama variabel juga bersifat case sensitif yang artinya variabel ``hasil`` berbeda dengan ``Hasil``.\n",
    "\n",
    "script:\n",
    "```python\n",
    "hasil = 12\n",
    "Hasil = 29\n",
    "print(hasil)\n",
    "print(Hasil)\n",
    "```\n",
    "output :\n",
    "```python\n",
    "12\n",
    "29\n",
    "```\n",
    "\n",
    "**Instruksi 1.8** :\n",
    "Perbaikilah code pada dibawah :\n",
    "- ubahlah ``data-lama`` menjadi ``data_lama``\n",
    "- ubahlah ``data baru`` menjadi ``data_baru``\n",
    "- Hapus simbol ``#`` sehingga code bisa berjalan dan tidak ada error"
   ]
  },
  {
   "cell_type": "code",
   "execution_count": 8,
   "metadata": {},
   "outputs": [],
   "source": [
    "# permulaan coding\n",
    "data_lama = 1900\n",
    "data_baru = 3200"
   ]
  },
  {
   "cell_type": "markdown",
   "metadata": {},
   "source": [
    "---\n",
    "Nilai yang disimpan dalam variabel dapat di update menjadi suatu nilai yang baru, contoh :\n",
    "\n",
    "script :\n",
    "```python\n",
    "x = 10\n",
    "print(x)\n",
    "\n",
    "x = 16\n",
    "print(x)\n",
    "```\n",
    "\n",
    "output :\n",
    "```python\n",
    "10\n",
    "16\n",
    "```\n",
    "\n",
    "Kita juga dapat mengupdate nilai x dengan menggunakan operasi aritmatik, contoh :\n",
    "\n",
    "script :\n",
    "```python\n",
    "x = 10\n",
    "print(x)\n",
    "print(x+16)\n",
    "\n",
    "x = x + 16\n",
    "print(x)\n",
    "```\n",
    "\n",
    "output :\n",
    "```pyhton\n",
    "10\n",
    "26\n",
    "26\n",
    "```\n",
    "\n",
    "**Instruksi 1.9** :\n",
    "- Buatlah variabel ``harga`` dengan isi ``20000``.\n",
    "- Update variabel ``harga`` dengan menambah nilai sebelumnya dengan ``1500``\n",
    "- Print ``harga``"
   ]
  },
  {
   "cell_type": "code",
   "execution_count": 9,
   "metadata": {},
   "outputs": [
    {
     "name": "stdout",
     "output_type": "stream",
     "text": [
      "21500\n"
     ]
    }
   ],
   "source": [
    "# Tulis jawaban disini\n",
    "harga = 20000\n",
    "harga = harga + 1500\n",
    "print(harga)"
   ]
  },
  {
   "cell_type": "markdown",
   "metadata": {},
   "source": [
    "---\n",
    "Untuk mengupdate nilai suatu variabel dengan code yang lebih singkat dapat dilakukan dengan operasi aritmatik berikut, contoh\n",
    "\n",
    "script :\n",
    "```python\n",
    "x = 10\n",
    "x += 16\n",
    "print(x)\n",
    "```\n",
    "output :\n",
    "```python\n",
    "26\n",
    "```\n",
    "\n",
    "Berikut adalah code singkat untuk update variabel\n",
    "\n",
    "|Code Singkat | Contoh code      |  Hasil        |\n",
    "|-------------|------------------|---------------|\n",
    "|   +=        | x = 6            |               |\n",
    "|             | x += 3           | 9             |\n",
    "|   -=        | x = 6            |               |\n",
    "|             | x -= 3           | 3             |\n",
    "|   *=        | x = 6            |               |\n",
    "|             | x *= 3           | 18            |\n",
    "|   /=        | x = 6            |               |\n",
    "|             | x /= 3           | 2             |\n",
    "|   **=       | x = 6            |               |\n",
    "|             | x **= 3          | 216          |\n",
    "\n",
    "**Instruksi 1.10** : \n",
    "- Buatlah variabel dengan nama ``variabel_1`` dan isi dengan nilai 20\n",
    "- Buatlah variabel dengan nama ``variabel_2`` dan isi dengan nilai 20\n",
    "- Update ``variabel_2`` dengan menambah nilai sebelumnya dengan ``10`` dengan menggunakan operator ``+=``\n",
    "- Update ``variabel_1`` dengan mengalikan nilai sebelumnya dengan ``4`` dengan menggunakan operartor ``*=``\n",
    "- Tampilkan ``variabel_1`` dan ``variabel_2`` menggunakan perintah ``print``"
   ]
  },
  {
   "cell_type": "code",
   "execution_count": 10,
   "metadata": {},
   "outputs": [
    {
     "name": "stdout",
     "output_type": "stream",
     "text": [
      "80\n",
      "30\n"
     ]
    }
   ],
   "source": [
    "# Tuliskan jawaban disini\n",
    "variabel_1 = 20\n",
    "variabel_2 = 20\n",
    "variabel_2 += 10\n",
    "variabel_1 *= 4\n",
    "print(variabel_1)\n",
    "print(variabel_2)"
   ]
  },
  {
   "cell_type": "markdown",
   "metadata": {},
   "source": [
    "---\n",
    "Pada bagian sebelumnya kita telah mencoba operasi aritmatik dengan menggunakan bilangan integer seperti 6,14,20, dll. Dalam melakukan perhitungan kita juga dapat menghitung bilangan desimal.\n",
    "\n",
    "script:\n",
    "```python\n",
    "print(-2.5 + 3.5)\n",
    "print(8.3 - 2.1)\n",
    "```\n",
    "output:\n",
    "```python\n",
    "1.0\n",
    "6.2\n",
    "```\n",
    "\n",
    "Dalam bahasa python tipe data integer dan desimal dibedakan dengan sebutan tipe integer dan float.\n",
    "\n",
    "script :\n",
    "```python\n",
    "print(type(3))\n",
    "```\n",
    "output :\n",
    "```python\n",
    "int\n",
    "```\n",
    "\n",
    "script :\n",
    "```python\n",
    "print(type(2.4))\n",
    "```\n",
    "output :\n",
    "```python\n",
    "float\n",
    "```\n",
    "\n",
    "Dalam pemrograman komputer, suatu nilai dapat diklasifikasikan menjadi beberapa tipe. Tipe data yang berbeda akan diproses secara berbeda oleh komputer, sehingga akan menentukan operasi apa yang bisa berjalan dan tidak bisa berjalan. Tipe ``int`` dan ``float`` merupakan tipe data yang berbeda tetapi kedua tipe data tersebut dapat dicampur dan mengalami operasi aritmatik. Sehingga tipe ``int`` tidak hanya dibatasi untuk dijumlahkan dengan tipe ``int`` juga, tetapi juga dapat dijumlahkan dengan data bertipe ``float``.\n",
    "\n",
    "script :\n",
    "```python\n",
    "print(2 + 3.2)\n",
    "print(1.5 * 3)\n",
    "```\n",
    "output :\n",
    "```python\n",
    "5.2\n",
    "4.5\n",
    "```\n",
    "\n",
    "**Instruksi 1.11** :\n",
    "- Buatlah variabel dengan nama ``variabel_1`` dan isi dengan nilai 10\n",
    "- Buatlah variabel dengan nama ``variabel_2`` dan isi dengan nilai 3.5\n",
    "- Update ``variabel_1`` dengan menjumlahkan float ``6.5`` dengan nilai sebelumnya menggunakan operator ``+=``\n",
    "- Update ``variabel_2`` dengan mengalikan integer ``2`` dengan nilai sebelumnnya menggunakan operator ``*=``\n",
    "- Tampilkan ``variabel_1`` dan ``variabel_`` dengan perintah ``print``"
   ]
  },
  {
   "cell_type": "code",
   "execution_count": 11,
   "metadata": {},
   "outputs": [
    {
     "name": "stdout",
     "output_type": "stream",
     "text": [
      "16.5\n",
      "6.4\n"
     ]
    }
   ],
   "source": [
    "# Tuliskan jawaban disini\n",
    "variabel_1 = 10\n",
    "variabel_2 = 3.2\n",
    "variabel_1 += 6.5\n",
    "variabel_2 *= 2\n",
    "print(variabel_1)\n",
    "print(variabel_2)"
   ]
  },
  {
   "cell_type": "markdown",
   "metadata": {},
   "source": [
    "---\n",
    "Suatu tipe data tertentu dapat diubah menjadi tipe data yang lain sesuai dengan kebutuhan untuk melakukan proses perhitungan. Misalnya tipe data integer dapat diubah menjadi tipe data float dengan menggunakan perintah ``float()``, atau sebaliknya dapat dilakukan dengan menggunakan perintah ``int()``\n",
    "\n",
    "contoh mengubah dari float menjadi integer :\n",
    "```python\n",
    "print(float(20))\n",
    "```\n",
    "output :\n",
    "```python\n",
    "20.0\n",
    "```\n",
    "\n",
    "contoh mengubah integer menjadi float :\n",
    "```python\n",
    "print(int(3.4))\n",
    "```\n",
    "output :\n",
    "```python\n",
    "3\n",
    "```\n",
    "\n",
    "``int()`` membulatkan ``3.4`` menjadi ``3`` yang mana selalu nilainya pembulatan kebawah.\n",
    "contoh :\n",
    "```python\n",
    "print(int(4.99))\n",
    "```\n",
    "output :\n",
    "```python\n",
    "4\n",
    "```\n",
    "\n",
    "Untuk melakukan pembulatan ke atas ataupun kebawah sesuai dengan angka belankang pada bilangan desimal, maka dapat digunakan perintah ``round``. Jika angka akhiran desimal lebih besar dari 5 maka akan dibulatkan ke atas sedangkan jika akhiran lebih kecil atau sama dengan 5 maka akan dibulatkan ke bawah. Contoh :\n",
    "\n",
    "script :\n",
    "```python\n",
    "print(round(4.3))\n",
    "print(round(4.5))\n",
    "print(round(4.7))\n",
    "```\n",
    "output :\n",
    "```python\n",
    "4\n",
    "4\n",
    "5\n",
    "```\n",
    "\n",
    "**Instruksi 1.12** :\n",
    "- Buatlah variabel bernama ``variabel_1`` dan isi dengan nilai 14.8\n",
    "- Buatlah variabel bernama ``variabel_2`` dan isi dengan nilai 3.7\n",
    "- Bulatkan ``variabel_1`` dengan menggunakan perintah ``round()``, dan simpan hasil pembulatanya di dalam ``variabel_1``\n",
    "- Konversi ``variabel_2`` dari tipe float menjadi integer menggunakan perintah ``int()``, dan simpan dalam ``variabel_2``.\n",
    "- Tampilkan ``variabel_1`` dan ``variabel_2`` dengan menggunakan perintah ``print()``"
   ]
  },
  {
   "cell_type": "code",
   "execution_count": 12,
   "metadata": {},
   "outputs": [
    {
     "name": "stdout",
     "output_type": "stream",
     "text": [
      "15\n",
      "3\n"
     ]
    }
   ],
   "source": [
    "# Tuliskan jawaban disini\n",
    "variabel_1 = 14.8\n",
    "variabel_2 = 3.7\n",
    "variabel_1 = round(variabel_1)\n",
    "variabel_2 = int(variabel_2)\n",
    "print(variabel_1)\n",
    "print(variabel_2)"
   ]
  },
  {
   "cell_type": "markdown",
   "metadata": {},
   "source": [
    "---\n",
    "Pada bagian sebelumnya sudah dijelaskan tipe data ``int`` dan ``float``. Tetapi masih terdapat beberapa jenis data yang lain dalam pemrograman. Sebagai contoh perhatikan tabel berikut :\n",
    "\n",
    "\n",
    "| No   |nama aplikasi  | harga    |mata uang| total rating   |user rating   |\n",
    "|------|---------------|----------|---------|----------------|--------------|\n",
    "| 1    |Facebook       | 0.0      |  USD    |   270298       |   3.5        |\n",
    "| 2    |Instagram      | 0.0      |  USD    |   253091       |   4.5        |\n",
    "| 3    |Clash of Clans | 0.0      |  USD    |   234389       |   4.5        |\n",
    "| 4    |Temple Run     | 0.0      |  USD    |   180235       |   4.5        |\n",
    "| 5    |Pandora-Music  | 0.0      |  USD    |   145892       |   4.0        |\n",
    "\n",
    "\n",
    "Dari tabel diatas dapat kita lihat pada kolom ``nama aplikasi`` dan ``mata uang`` merupakan data berbentuk text. Dalam bahasa python untuk menuliskan data dapat dilakukan dengan memberikan tanda petik pada bagian awal dan bagian akhir suatu data ``(\"data\")``, contohnya\n",
    "\n",
    "script :\n",
    "```python\n",
    "nama_aplikasi = \"Facebook\"\n",
    "mata_uang = \"USD\"\n",
    "\n",
    "print(nama_aplikasi)\n",
    "print(mata_uang)\n",
    "```\n",
    "\n",
    "output :\n",
    "```python\n",
    "Facebook\n",
    "USD\n",
    "```\n",
    "\n",
    "Untuk menuliskan text juga dapat dilakukan dengan menuliskan tanda petik satu (``' '``), kedua cara penulisan dengan tanda petik dua atau petik satu diperbolehkan dalam bahasa python untuk menuliskan text, contoh\n",
    "\n",
    "script :\n",
    "```python\n",
    "nama_1 = \"Facebook\"\n",
    "nama_2 = 'Facebook'\n",
    "\n",
    "print(nama_1)\n",
    "print(nama_2)\n",
    "```\n",
    "output :\n",
    "```python\n",
    "Facebook\n",
    "Facebook\n",
    "```\n",
    "\n",
    "Tipe data text ini dalam bahasa pemrograman disebut sebagai data bertipe **string**. Dalam python dituliskan dengan ``str``, contoh\n",
    "\n",
    "script :\n",
    "```python\n",
    "print(type('Facebook'))\n",
    "```\n",
    "\n",
    "output :\n",
    "```python\n",
    "Facebook\n",
    "```\n",
    "\n",
    "\n",
    "Untuk membuat string tidak hanya dibatasi dengan menggunakan huruf saja, tetapi juga dapat menggunakan angka, spasi, ataupun karakter lainnya asalkan selalu dimulai dengan tanda petik. Contoh\n",
    "\n",
    "script :\n",
    "```python\n",
    "aplikasi = 'Facebook'\n",
    "deskripsi_singkat = 'Facebook adalah aplikasi tidak berbayar dengan rerata ratingnya adalah 3.5'\n",
    "\n",
    "print(aplikasi)\n",
    "print(deskripsi_singkat)\n",
    "```\n",
    "output :\n",
    "```pyhton\n",
    "Facebook\n",
    "Facebook adalah aplikasi tidak berbayar dengan rerata ratingnya adalah 3.5\n",
    "```\n",
    "\n",
    "---\n",
    "**Instruksi 1.13** :\n",
    "- Buatlah variabel dengan nama ``nama_aplikasi`` dan isi dengan text ``Pandora - Music``\n",
    "- Buatlah variabel dengan nama ``rerata_rating`` dan isi dengan nilai ``4.0`` bertipe float\n",
    "- Buatlah variabel dengan nama ``total_rating`` dan isi dengan nilai `18736483` bertipe string\n",
    "- Buatlah variabel dengan nama ``harga`` dan isi dengan text ``gratis``\n",
    "- Tampilkan ``nama_aplikasi`` dengan menggunakan perintah ``print``"
   ]
  },
  {
   "cell_type": "code",
   "execution_count": 13,
   "metadata": {},
   "outputs": [
    {
     "name": "stdout",
     "output_type": "stream",
     "text": [
      "Pandora - Music\n"
     ]
    }
   ],
   "source": [
    "# Tuliskan jawaban disini\n",
    "nama_aplikasi = \"Pandora - Music\"\n",
    "rerata_rating = 4.0\n",
    "total_rating = 18736483\n",
    "harga = \"gratis\"\n",
    "print(nama_aplikasi)"
   ]
  },
  {
   "cell_type": "markdown",
   "metadata": {},
   "source": [
    "Kadang untuk membuat text terdapat karakter tanda petik satu atau petik dua di dalam text, seperti contoh berikut ``Indonesia's culinary is so delicious``. Dalam kondisi ini kita tidak dapat menggunakan tanda petik satu (``' '``) untuk membuat string, tapi harus menggunakan tanda petik dua (``\" \"``) \".\n",
    "\n",
    "script :\n",
    "```python\n",
    "statement = \"Indonesia's motto is 'Bhineka Tunggal Ika'.\"\n",
    "print(statement)\n",
    "```\n",
    "output :\n",
    "```pyhton\n",
    "Indonesia's motto is 'Bhineka Tunggal Ika'.\n",
    "```\n",
    "\n",
    "Pada text di atas kita menggunakan tanda petik dua karena pada bagian dalam text ada tanda petik satu, sehingga dengan menggunakan tanda petik dua membuat program mengetahui dimana string data dimulai dan diakhiri. Akan tetapi pada bagia text juga mengandung tanda petik dua dan petik satu seperti pada contoh berikut :\n",
    "\n",
    "script :\n",
    "```python\n",
    "statement = 'Indonesia's motto is \"Bhineka Tunggal Ika\".'\n",
    "```\n",
    "output:\n",
    "```python\n",
    "SyntaxError: invalid syntax\n",
    "```\n",
    "\n",
    "Dengan kondisi seperti di atas maka program akan memberitahukakn kesalahan dalam penulisan, sehingga untuk kondisi kita dapat menggunakan tanda petik satu untuk membuat string, tetapi pada tanda petik satu bagian dalam text harus dimulai dengan karakter garsi miring (``\\``), contoh :"
   ]
  },
  {
   "cell_type": "code",
   "execution_count": 11,
   "metadata": {},
   "outputs": [
    {
     "name": "stdout",
     "output_type": "stream",
     "text": [
      "Indonesia's motto is \"Bhineka Tunggal Ika\".\n"
     ]
    }
   ],
   "source": [
    "# script :\n",
    "statement = 'Indonesia\\'s motto is \"Bhineka Tunggal Ika\".'\n",
    "print(statement)"
   ]
  },
  {
   "cell_type": "markdown",
   "metadata": {},
   "source": [
    "**Instruksi 1.14** :\n",
    "- Buatlah variabel ``statement`` yang berisi ``Apple's motto is \"think difference\".``\n",
    "- Tampilkan variabel ``statement`` dengan menggunakan perintah ``print()``"
   ]
  },
  {
   "cell_type": "code",
   "execution_count": 14,
   "metadata": {},
   "outputs": [
    {
     "name": "stdout",
     "output_type": "stream",
     "text": [
      "Apple's motto is \"think difference\"\n"
     ]
    }
   ],
   "source": [
    "# Tuliskan jawaban disini\n",
    "statement = \"Apple's motto is \\\"think difference\\\"\"\n",
    "print(statement)\n"
   ]
  },
  {
   "cell_type": "markdown",
   "metadata": {},
   "source": [
    "---\n",
    "Dua buah data bertipe string dapat disambungkan dengan menggunakan operator ``+``. Contoh :"
   ]
  },
  {
   "cell_type": "code",
   "execution_count": 12,
   "metadata": {},
   "outputs": [
    {
     "name": "stdout",
     "output_type": "stream",
     "text": [
      "ab\n",
      "a b\n",
      "Iniadalahsebuahkalimat.\n",
      "Ini adalah sebuah kalimat.\n",
      "Ini adalah sebuah kalimat.\n"
     ]
    }
   ],
   "source": [
    "print('a' + 'b')\n",
    "print('a' + ' ' + 'b')\n",
    "print('Ini' + 'adalah' + 'sebuah' + 'kalimat.')\n",
    "print('Ini' + ' ' + 'adalah' + ' ' + 'sebuah' + ' ' + 'kalimat.')\n",
    "print('Ini ' + 'adalah ' + 'sebuah ' + 'kalimat.')"
   ]
  },
  {
   "cell_type": "markdown",
   "metadata": {},
   "source": [
    "Proses menyambungkan dua buah string disebut sebagai sebagai prose **concatenation**\n",
    "\n",
    "Operasi pada data bertipe string juga dapat dilakukan dengan menggunakan operator ``*``, yang mana operator ini akan membuat salinan data berulangkali. Contoh"
   ]
  },
  {
   "cell_type": "code",
   "execution_count": 17,
   "metadata": {},
   "outputs": [
    {
     "name": "stdout",
     "output_type": "stream",
     "text": [
      "aa\n",
      "aaaaa\n",
      "a a a a a \n",
      "a\n",
      "\n",
      "\n"
     ]
    }
   ],
   "source": [
    "print('a' * 2)\n",
    "print('a' * 5)\n",
    "print('a ' * 5)\n",
    "print('a' * 1)\n",
    "print('a' * 0)    # Tidak dapat di print\n",
    "print('a' * -1)   # Tidak dapat di print"
   ]
  },
  {
   "cell_type": "markdown",
   "metadata": {},
   "source": [
    "Tipe data string tidak dapat dijumlahkan dengan tipe data integer ataupun tipe float."
   ]
  },
  {
   "cell_type": "code",
   "execution_count": 18,
   "metadata": {},
   "outputs": [
    {
     "ename": "TypeError",
     "evalue": "can only concatenate str (not \"int\") to str",
     "output_type": "error",
     "traceback": [
      "\u001b[1;31m---------------------------------------------------------------------------\u001b[0m",
      "\u001b[1;31mTypeError\u001b[0m                                 Traceback (most recent call last)",
      "\u001b[1;32m<ipython-input-18-927fd70d2501>\u001b[0m in \u001b[0;36m<module>\u001b[1;34m\u001b[0m\n\u001b[1;32m----> 1\u001b[1;33m \u001b[0mprint\u001b[0m\u001b[1;33m(\u001b[0m\u001b[1;34m'6'\u001b[0m \u001b[1;33m+\u001b[0m \u001b[1;36m2\u001b[0m\u001b[1;33m)\u001b[0m\u001b[1;33m\u001b[0m\u001b[1;33m\u001b[0m\u001b[0m\n\u001b[0m",
      "\u001b[1;31mTypeError\u001b[0m: can only concatenate str (not \"int\") to str"
     ]
    }
   ],
   "source": [
    "print('6' + 2)"
   ]
  },
  {
   "cell_type": "code",
   "execution_count": 21,
   "metadata": {},
   "outputs": [
    {
     "ename": "TypeError",
     "evalue": "unsupported operand type(s) for -: 'str' and 'int'",
     "output_type": "error",
     "traceback": [
      "\u001b[1;31m---------------------------------------------------------------------------\u001b[0m",
      "\u001b[1;31mTypeError\u001b[0m                                 Traceback (most recent call last)",
      "\u001b[1;32m<ipython-input-21-5a2f5c18635a>\u001b[0m in \u001b[0;36m<module>\u001b[1;34m\u001b[0m\n\u001b[1;32m----> 1\u001b[1;33m \u001b[0mprint\u001b[0m\u001b[1;33m(\u001b[0m\u001b[1;34m'4'\u001b[0m \u001b[1;33m-\u001b[0m \u001b[1;36m1\u001b[0m\u001b[1;33m)\u001b[0m\u001b[1;33m\u001b[0m\u001b[1;33m\u001b[0m\u001b[0m\n\u001b[0m",
      "\u001b[1;31mTypeError\u001b[0m: unsupported operand type(s) for -: 'str' and 'int'"
     ]
    }
   ],
   "source": [
    "print('4' - 1)"
   ]
  },
  {
   "cell_type": "markdown",
   "metadata": {},
   "source": [
    "Jika suatu string mempunyai nilai yang membentuk suatu angka (misal ``'4'``,``'3.3'``,``'12'``,dll), maka nilai ini dapat dikonversi menjadi data bertipe integer atau float, kemudia baru dapat dilakukan operasi aritmatik. Contoh"
   ]
  },
  {
   "cell_type": "code",
   "execution_count": 22,
   "metadata": {},
   "outputs": [
    {
     "name": "stdout",
     "output_type": "stream",
     "text": [
      "10\n",
      "4.5\n"
     ]
    }
   ],
   "source": [
    "print(int('7') + 3)\n",
    "print(float('3.5') + 1)"
   ]
  },
  {
   "cell_type": "code",
   "execution_count": 23,
   "metadata": {},
   "outputs": [
    {
     "ename": "ValueError",
     "evalue": "invalid literal for int() with base 10: 'format yang salah'",
     "output_type": "error",
     "traceback": [
      "\u001b[1;31m---------------------------------------------------------------------------\u001b[0m",
      "\u001b[1;31mValueError\u001b[0m                                Traceback (most recent call last)",
      "\u001b[1;32m<ipython-input-23-0e7265746d12>\u001b[0m in \u001b[0;36m<module>\u001b[1;34m\u001b[0m\n\u001b[1;32m----> 1\u001b[1;33m \u001b[0mprint\u001b[0m\u001b[1;33m(\u001b[0m\u001b[0mint\u001b[0m\u001b[1;33m(\u001b[0m\u001b[1;34m'format yang salah'\u001b[0m\u001b[1;33m)\u001b[0m\u001b[1;33m)\u001b[0m\u001b[1;33m\u001b[0m\u001b[1;33m\u001b[0m\u001b[0m\n\u001b[0m",
      "\u001b[1;31mValueError\u001b[0m: invalid literal for int() with base 10: 'format yang salah'"
     ]
    }
   ],
   "source": [
    "print(int('format yang salah'))"
   ]
  },
  {
   "cell_type": "code",
   "execution_count": 24,
   "metadata": {},
   "outputs": [
    {
     "ename": "ValueError",
     "evalue": "invalid literal for int() with base 10: '3.3'",
     "output_type": "error",
     "traceback": [
      "\u001b[1;31m---------------------------------------------------------------------------\u001b[0m",
      "\u001b[1;31mValueError\u001b[0m                                Traceback (most recent call last)",
      "\u001b[1;32m<ipython-input-24-553ee58fd60d>\u001b[0m in \u001b[0;36m<module>\u001b[1;34m\u001b[0m\n\u001b[1;32m----> 1\u001b[1;33m \u001b[0mprint\u001b[0m\u001b[1;33m(\u001b[0m\u001b[0mint\u001b[0m\u001b[1;33m(\u001b[0m\u001b[1;34m'3.3'\u001b[0m\u001b[1;33m)\u001b[0m\u001b[1;33m)\u001b[0m\u001b[1;33m\u001b[0m\u001b[1;33m\u001b[0m\u001b[0m\n\u001b[0m",
      "\u001b[1;31mValueError\u001b[0m: invalid literal for int() with base 10: '3.3'"
     ]
    }
   ],
   "source": [
    "print(int('3.3'))"
   ]
  },
  {
   "cell_type": "markdown",
   "metadata": {},
   "source": [
    "Sebaliknya kita dapat mengubah data bertipe ``int`` atau ``float`` menjadi bertipe ``str`` menggunakan perintah ``str()``. Misalnya kita ingin mengubah data integer ``4`` menjadi data string ``'4'``.\n",
    "\n",
    "script :\n",
    "```python\n",
    "print(str(4))\n",
    "```\n",
    "output:\n",
    "```python\n",
    "'4'\n",
    "```\n",
    "\n",
    "Jika data text terdiri atas beberapa baris maka kita dapat menuliskannya dengan menggunakan tada petik tunggal tiga kali (```'''```) atau tanda petik ganda tiga kali (``\"\"\"``), contoh"
   ]
  },
  {
   "cell_type": "code",
   "execution_count": 25,
   "metadata": {},
   "outputs": [
    {
     "name": "stdout",
     "output_type": "stream",
     "text": [
      "Ini adalah kalimat pertama.\n",
      "Ini adalah kalimat selanjutnya.\n",
      "Ini adalah kalimat terakhir.\n",
      "----------\n",
      "baris 1.\n",
      "baris 2.\n",
      "baris 3.\n"
     ]
    }
   ],
   "source": [
    "kalimat1 = '''Ini adalah kalimat pertama.\n",
    "Ini adalah kalimat selanjutnya.\n",
    "Ini adalah kalimat terakhir.'''\n",
    "\n",
    "kalimat2 = \"\"\"----------\n",
    "baris 1.\n",
    "baris 2.\n",
    "baris 3.\"\"\"\n",
    "\n",
    "print(kalimat1)\n",
    "print(kalimat2)"
   ]
  },
  {
   "cell_type": "markdown",
   "metadata": {},
   "source": [
    "Dengan menggunakan tanda petik tiga kali maka pada text yang memiliki tanda petik satu dan dua dapat dituliskan secara langsung, contoh"
   ]
  },
  {
   "cell_type": "code",
   "execution_count": 26,
   "metadata": {},
   "outputs": [
    {
     "name": "stdout",
     "output_type": "stream",
     "text": [
      "Indonesia's motto is \"Bhineka Tunggal Ika\".\n"
     ]
    }
   ],
   "source": [
    "statement = '''Indonesia's motto is \"Bhineka Tunggal Ika\".'''\n",
    "print(statement)"
   ]
  },
  {
   "cell_type": "markdown",
   "metadata": {},
   "source": [
    "**Instruksi 1.15** :\n",
    "- Buatlah variabel bernama ``gojek`` dan isi dengan data string ``rating gojek adalah``\n",
    "- Buatlah variabel beranam ``rating`` dan isi dengan data float ``4.5``.\n",
    "- Konversi variabel ``rating`` dari bertipe float menjadi string menggunakan perintah ``str()``. Kemudian simpan hasil konversi tersebut dengan nama variabel baru ``rating_str``\n",
    "- Concatenate variabel ``gojek`` dengan ``rating_str`` sehinga diperoleh hasil print ``rating gojek adalah 4.5``, kemudian simpan hasil concatenate ini kedalam variabel ``gojek_new``.\n",
    "- Tampilkan variabel ``gojek_new`` menggunakan perintah ``print()``."
   ]
  },
  {
   "cell_type": "code",
   "execution_count": 16,
   "metadata": {},
   "outputs": [
    {
     "name": "stdout",
     "output_type": "stream",
     "text": [
      "rating gojek adalah 4.5\n"
     ]
    }
   ],
   "source": [
    "# Tulis jawaban disini\n",
    "gojek = 'rating gojek adalah '\n",
    "rating = 4.5\n",
    "rating_str = str(4.5)\n",
    "gojek_new = gojek + rating_str\n",
    "print(gojek_new)"
   ]
  }
 ],
 "metadata": {
  "kernelspec": {
   "display_name": "Python 3",
   "language": "python",
   "name": "python3"
  },
  "language_info": {
   "codemirror_mode": {
    "name": "ipython",
    "version": 3
   },
   "file_extension": ".py",
   "mimetype": "text/x-python",
   "name": "python",
   "nbconvert_exporter": "python",
   "pygments_lexer": "ipython3",
   "version": "3.8.3"
  }
 },
 "nbformat": 4,
 "nbformat_minor": 4
}
