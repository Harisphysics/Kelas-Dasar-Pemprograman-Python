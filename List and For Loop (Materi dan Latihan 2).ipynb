{
 "cells": [
  {
   "cell_type": "markdown",
   "metadata": {},
   "source": [
    "<center><h1>List dan For Loop</h1></center>\n",
    "\n",
    "---\n",
    "\n",
    "### 1. List\n",
    "Ketika bekerja dengan data kita menyimpan data tersebut di dalam memori komputer dan kemudian memanggilnya sewaktu-waktu saat dibutuhkan untuk menjalankan proses. Data tersebut dapat kita simpan di dalam suatu variabel seperti yanng telah kita pelajari pada bagian sebelumnya.\n",
    "\n",
    "script :\n",
    "```python\n",
    "nama_aplikasi = 'Facebook'\n",
    "harga = 0.0\n",
    "mata_uang = 'USD'\n",
    "total_rating = 297328\n",
    "user_rating = 3.5\n",
    "```\n",
    "\n",
    "Berdasarkan script di atas kita menyimpan data ke dalam masing-masing variabel:\n",
    "- Data nama_aplikasi 'Facebook' adalah tipe string\n",
    "- Data harga 0.0 adalah float\n",
    "- Data mata_uang 'USD' adalah string\n",
    "- Data total_rating 297328 adalah integer\n",
    "- Data user_rating 3.5 adalah float\n",
    "\n",
    "Menyimpang data dengan memberikan nama variabel untuk semua data merupakan sebuah proses yang sangat tidak efisien, sehingga dalam bahasa python kita dapat menyimpan data secara lebih efisien dengan menggunakan **lists**. Contoh data list adalah :"
   ]
  },
  {
   "cell_type": "code",
   "execution_count": 1,
   "metadata": {},
   "outputs": [
    {
     "name": "stdout",
     "output_type": "stream",
     "text": [
      "['Facebook', 0.0, 'USD', 297328, 3.5]\n",
      "<class 'list'>\n"
     ]
    }
   ],
   "source": [
    "baris_1 = ['Facebook', 0.0, 'USD', 297328, 3.5]\n",
    "print(baris_1)\n",
    "print(type(baris_1))"
   ]
  },
  {
   "cell_type": "markdown",
   "metadata": {},
   "source": [
    "---\n",
    "Jadi list dapat dibuat dengan menggunakan kurung kotak, dan kemudian di dalamnya diisi dengan data yang ingin disimpan, dimana setiap data dipisahkan oleh tanda koma.\n",
    "\n",
    "**Instruksi 2.1** :\n",
    "- Simpanlah data (``'Instagram', 0.0, 'USD', 238478, 4.0``) dalam bentuk list di dalam variabel yang diberi nama ``baris_2``\n",
    "- Simpanlah data (``Clash of Clans', 0.0, 'USD', 214892, 4.5``) dalam bentuk list di dalam variabel yang diberi nama ``baris_3``\n",
    "- Tampilkan ``baris_2`` dan ``baris_3`` dengan menggunakan perintah ``print()``"
   ]
  },
  {
   "cell_type": "code",
   "execution_count": 1,
   "metadata": {},
   "outputs": [
    {
     "name": "stdout",
     "output_type": "stream",
     "text": [
      "['Instagram', 0.0, 'USD', 238478, 4.0]\n",
      "['Clash of Clans', 0.0, 'USD', 214892, 4.5]\n"
     ]
    }
   ],
   "source": [
    "# Tuliskan jawaban disini\n",
    "baris_2 = ['Instagram', 0.0, 'USD', 238478, 4.0]\n",
    "baris_3 = ['Clash of Clans', 0.0, 'USD', 214892, 4.5]\n",
    "print(baris_2)\n",
    "print(baris_3)"
   ]
  },
  {
   "cell_type": "markdown",
   "metadata": {},
   "source": [
    "---\n",
    "Dalam sebuah list kita dapat menyimpan data dalam berbagai tipe. List bersifat seperti container yang dapat digunakan untuk menyimpan berbagai jenis data. Seperti pada contoh sebelumnya kita telah bisa menyimpan beberapa tipe data ke dalam sebuah list ``baris_1``. Untuk mengetahui berapa banyak data yang kita simpan di dalam sebuah list maka kita dapat menggunakan perintah ``len()``. Sebagai contoh perhatikan code berikut :"
   ]
  },
  {
   "cell_type": "code",
   "execution_count": 5,
   "metadata": {},
   "outputs": [
    {
     "name": "stdout",
     "output_type": "stream",
     "text": [
      "5\n",
      "7\n",
      "0\n"
     ]
    }
   ],
   "source": [
    "baris_1 = ['Facebook', 0.0, 'USD', 2324894, 3.5]\n",
    "print(len(baris_1))\n",
    "\n",
    "list_1 = [1,6,9,7,13,30,66]\n",
    "print(len(list_1))\n",
    "\n",
    "list_2 = []\n",
    "print(len(list_2))"
   ]
  },
  {
   "cell_type": "markdown",
   "metadata": {},
   "source": [
    "---\n",
    "Jika bekerja dengan data yang sedikit kita dapat menghitung jumlah data di dalam list dengan sangat mudah. Namun jika kita bekerja dengan data yang sangat banyak maka perintah ``len()`` akan sangat membantu untuk mengetahui jumlah data yang tersimpan di dalam list. \n",
    "\n",
    "Setiap data yang tersimpan di dalam list memiliki index. Index ini seperti halnya alamat tempat masing-masing data tersimpan. Sehingga kita dapat menggunakan index data untuk memanggil isi data secara spesifik di dalam sebuah list.\n",
    "\n",
    "|List (baris_1) |  Index   |\n",
    "|---------------|----------|\n",
    "| 'Facebook'    |    0     |\n",
    "|    0.0        |    1     |\n",
    "|   'USD'       |    2     |\n",
    "|  2893489      |    3     |\n",
    "|    3.5        |    4     |\n",
    "\n",
    "\n",
    "Jika kita ingin memanggil data yang berapa pada index tertentu kita dapat memberikan perintah dengan format ``nama_list[index]``. Sebagai contoh jika kita ingin memanggil data pada urutan pertama kita dapat memasukkan index ``0``:"
   ]
  },
  {
   "cell_type": "code",
   "execution_count": 7,
   "metadata": {},
   "outputs": [
    {
     "name": "stdout",
     "output_type": "stream",
     "text": [
      "Facebook\n"
     ]
    }
   ],
   "source": [
    "baris_1 = ['Facebook', 0.0, 'USD', 2974676, 3.5]\n",
    "print(baris_1[0])"
   ]
  },
  {
   "cell_type": "code",
   "execution_count": 8,
   "metadata": {},
   "outputs": [
    {
     "name": "stdout",
     "output_type": "stream",
     "text": [
      "Facebook\n",
      "0.0\n",
      "USD\n",
      "2974676\n",
      "3.5\n"
     ]
    }
   ],
   "source": [
    "print(baris_1[0])\n",
    "print(baris_1[1])\n",
    "print(baris_1[2])\n",
    "print(baris_1[3])\n",
    "print(baris_1[4])"
   ]
  },
  {
   "cell_type": "markdown",
   "metadata": {},
   "source": [
    "---\n",
    "Dengan kemudahan memanggil data yang tersimpan dalam list maka kita dapat dengan mudah menjalankan suatu perintah operasi dan menyimpan hasil operasi di dalam memori. Conoth :"
   ]
  },
  {
   "cell_type": "code",
   "execution_count": 9,
   "metadata": {},
   "outputs": [
    {
     "name": "stdout",
     "output_type": "stream",
     "text": [
      "1.0\n",
      "4.0\n"
     ]
    }
   ],
   "source": [
    "baris_1 = ['Facebook', 0.0, 'USD', 2974676, 3.5]\n",
    "baris_2 = ['Instagram', 0.0, 'USD', 2161558, 4.5]\n",
    "\n",
    "beda_rating = baris_2[4] - baris_1[4]\n",
    "rerata_rating = (baris_1[4] + baris_2[4])/2\n",
    "\n",
    "print(beda_rating)\n",
    "print(rerata_rating)"
   ]
  },
  {
   "cell_type": "markdown",
   "metadata": {},
   "source": [
    "---\n",
    "**Instruksi 2.2** :\n",
    "Bada sel dibawah kita telah diberikan 3 buah list dengan nama ``baris_1``, ``baris_2``, dan ``baris_3``.\n",
    "- Buatlah variable dengan nama ``rating_1`` dan simpan data urutan ke-4 dari list ``baris_1``\n",
    "- Buatlah variabel dengan nama ``rating_2`` dan simpan data urutan ke-4 dari list ``baris_2``\n",
    "- Buatlah variabel dengan nama ``rating_3`` dan simpan data urutan ke-4 dari list ``baris_3``\n",
    "- Jumlah ketiga variabel ``rating_1``, ``rating_2``, ``rating_3`` dan simpan dalam variabel baru yang diberi nama ``total``\n",
    "- Bagilah variabel ``total`` dengan bilangan ``3`` untuk mendapatkan nilai reratanya dan simpan dalam variabel baru yang diberi nama ``rerata``"
   ]
  },
  {
   "cell_type": "code",
   "execution_count": 2,
   "metadata": {},
   "outputs": [
    {
     "name": "stdout",
     "output_type": "stream",
     "text": [
      "12.5\n"
     ]
    }
   ],
   "source": [
    "baris_1 = ['Facebook', 0.0, 'USD', 2974676, 3.5]\n",
    "baris_2 = ['Instagram', 0.0, 'USD', 2161558, 4.5]\n",
    "baris_3 = ['Clash of Clans', 0.0, 'USD', 2130805, 4.5]\n",
    "\n",
    "# Tulis jawaban disini\n",
    "rating_1 = baris_1[4]\n",
    "rating_2 = baris_2[4]\n",
    "rating_3 = baris_3[4]\n",
    "total = rating_1 + rating_2 + rating_3\n",
    "print(total)"
   ]
  },
  {
   "cell_type": "markdown",
   "metadata": {},
   "source": [
    "---\n",
    "Dalam penomoran index dikenal dua sistem penomoran yaitu\n",
    "- Positif Index : elemen pertama diberi index 0, elemen kedua diberi index 1, dan seterusnya\n",
    "- Negatif Index : elemen terakhir diberik index -1, elemen kedua terakhir diberi index -2, dan seterusnya\n",
    "\n",
    "| elemen_list  |Positif_index|Negatif_Index|\n",
    "|--------------|-------------|-------------|\n",
    "| 'Facebook'   |     0       |    -5       |\n",
    "|    0.0       |     1       |    -4       |\n",
    "|   'USD'      |     2       |    -3       |\n",
    "|  2974676     |     3       |    -2       |\n",
    "|    3.5       |     4       |    -1       |\n",
    "\n",
    "\n",
    "Dalam prakteknya kita akan sangat sering menggunakan positif_index. Namun dalam kondisi tertentu ketika jumlah data dalam list sangat banyak dan kita ingin melihat data pada bagian akhir maka sistem negatif_index akan sangat berguna."
   ]
  },
  {
   "cell_type": "code",
   "execution_count": 11,
   "metadata": {},
   "outputs": [
    {
     "name": "stdout",
     "output_type": "stream",
     "text": [
      "3.5\n",
      "3.5\n"
     ]
    }
   ],
   "source": [
    "baris_1 = ['Facebook', 0.0, 'USD', 2974676, 3.5]\n",
    "print(baris_1[-1])\n",
    "print(baris_1[4])"
   ]
  },
  {
   "cell_type": "markdown",
   "metadata": {},
   "source": [
    "---\n",
    "Jika kita salah memasukkan index karena jumlah index yang dimasukkan jauh lebih besar dari pada maksimal index yang tersedia, maka outputnya akan muncul error seperti berikut"
   ]
  },
  {
   "cell_type": "code",
   "execution_count": 13,
   "metadata": {},
   "outputs": [
    {
     "ename": "IndexError",
     "evalue": "list index out of range",
     "output_type": "error",
     "traceback": [
      "\u001b[1;31m---------------------------------------------------------------------------\u001b[0m",
      "\u001b[1;31mIndexError\u001b[0m                                Traceback (most recent call last)",
      "\u001b[1;32m<ipython-input-13-2909feb98c1c>\u001b[0m in \u001b[0;36m<module>\u001b[1;34m\u001b[0m\n\u001b[0;32m      1\u001b[0m \u001b[0mbaris_1\u001b[0m \u001b[1;33m=\u001b[0m \u001b[1;33m[\u001b[0m\u001b[1;34m'Facebook'\u001b[0m\u001b[1;33m,\u001b[0m \u001b[1;36m0.0\u001b[0m\u001b[1;33m,\u001b[0m \u001b[1;34m'USD'\u001b[0m\u001b[1;33m,\u001b[0m \u001b[1;36m2974676\u001b[0m\u001b[1;33m,\u001b[0m \u001b[1;36m3.5\u001b[0m\u001b[1;33m]\u001b[0m\u001b[1;33m\u001b[0m\u001b[1;33m\u001b[0m\u001b[0m\n\u001b[1;32m----> 2\u001b[1;33m \u001b[0mprint\u001b[0m\u001b[1;33m(\u001b[0m\u001b[0mbaris_1\u001b[0m\u001b[1;33m[\u001b[0m\u001b[1;36m6\u001b[0m\u001b[1;33m]\u001b[0m\u001b[1;33m)\u001b[0m\u001b[1;33m\u001b[0m\u001b[1;33m\u001b[0m\u001b[0m\n\u001b[0m",
      "\u001b[1;31mIndexError\u001b[0m: list index out of range"
     ]
    }
   ],
   "source": [
    "baris_1 = ['Facebook', 0.0, 'USD', 2974676, 3.5]\n",
    "print(baris_1[6])"
   ]
  },
  {
   "cell_type": "markdown",
   "metadata": {},
   "source": [
    "---\n",
    "**Instruksi 2.3** :\n",
    "Gunakan sistem negatif index dalam mengerjakan perintah berikut\n",
    "- Buatlah variabel ``rating_1`` dan isi dengan data pada elemen terakhir dari ``baris_1``\n",
    "- Buatlah variabel ``rating_2`` dan isi dengan data pada elemen terakhir dari ``baris_2``\n",
    "- Buatlah variabel ``rating_3`` dan isi dengan data pada elemen terakhir dari ``baris_3``\n",
    "- Jumlahkan ``rating_1``, ``rating_2``, ``rating_3``, dan simpan dalam variabel baru yang diberi nama ``total_rating``\n",
    "- Bagi ``total_rating`` dengan bilangan ``3`` dan kemudian simpan dalam variabel baru dengan nama ``rerata_rating``.\n",
    "- Tampilkan ``rerata_rating`` dengan perintah ``print()``"
   ]
  },
  {
   "cell_type": "code",
   "execution_count": 3,
   "metadata": {},
   "outputs": [
    {
     "name": "stdout",
     "output_type": "stream",
     "text": [
      "4.166666666666667\n"
     ]
    }
   ],
   "source": [
    "baris_1 = ['Facebook', 0.0, 'USD', 2974676, 3.5]\n",
    "baris_2 = ['Instagram', 0.0, 'USD', 2161558, 4.5]\n",
    "baris_3 = ['Clash of Clans', 0.0, 'USD', 2130805, 4.5]\n",
    "\n",
    "# Tuliskan jawaban disini\n",
    "rating_1 = baris_1[-1]\n",
    "rating_2 = baris_2[-1]\n",
    "rating_3 = baris_3[-1]\n",
    "total_rating = rating_1 + rating_2 + rating_3\n",
    "rerata_rating = total_rating/3\n",
    "print(rerata_rating)"
   ]
  },
  {
   "cell_type": "markdown",
   "metadata": {},
   "source": [
    "Sering kali dalam membuat suatu program kita harus mengambil data dalam jumlah tertentu dari sebuah list dan kemudian menyimpannya dalam sebuah variabel baru, contoh:\n",
    "\n",
    "```python\n",
    "baris_1 = ['Facebook', 0.0, 'USD', 2974676, 3.5]\n",
    "nama_aplikasi = baris_1[0]\n",
    "jumlah_rating = baris_1[3]\n",
    "rating = baris_1[-1]\n",
    "```\n",
    "\n",
    "Cara di atas membuat kita harus mendefinisikan banyak variabel dan membuat code kita tidak efisien dan sulit untuk ditelusuri jika terdapat suatu kesalahan. Cara yang lain dapat dilakukan dengan data yang dipilih dari sebuah list ke dalam list yang lain\n",
    "\n",
    "```python\n",
    "baris_1 = ['Facebook', 0.0, 'USD', 2974676, 3.5]\n",
    "data_rating =[baris_1[0], baris_1[3], baris_1[-1]]\n",
    "print(data_rating)\n",
    "\n",
    "output :\n",
    "    ['Facebook',2974676, 3.5]\n",
    "```\n",
    "\n",
    "---\n",
    "**Instruksi 2.4** :\n",
    "Diberikan list seperti pada sel dibawah, dimana pada data pada list berisi nama aplikasi, harga, mata uang, jumlah rating, user rating :\n",
    "- Buatlah variabel dengan nama ``rating_fb`` dan isi dengan list nama aplikasi, jumlah rating dan user rating dari list ``baris_1``\n",
    "- Buatlah variabel dengan nama ``rating_insta`` dan isi dengan list nama aplikasi, jumlah rating dan user rating dari list ``baris_2``\n",
    "- Buatlah variabel dengan nama ``rating_pandora`` dan isi dengan list nama aplikasi, jumlah rating dan user rating dari list ``baris_3``\n",
    "- Hitunglah rerata user rating dari ``rating_fb``, ``rating_insta``, dan ``rating_pandora``.\n",
    "   \n",
    "   -- Jumlahkan semua user rating dan bagi dengan total datanya kemudian simpan dalam variabel ``rating_rerata``\n",
    "   -- Tampilkan ``rating_rerata`` dengan menggunakan perintah ``print()``"
   ]
  },
  {
   "cell_type": "code",
   "execution_count": 5,
   "metadata": {},
   "outputs": [
    {
     "name": "stdout",
     "output_type": "stream",
     "text": [
      "2422350.5\n"
     ]
    }
   ],
   "source": [
    "baris_1 = ['Facebook', 0.0, 'USD', 2974676, 3.5]\n",
    "baris_2 = ['Instagram', 0.0, 'USD', 2161558, 4.5]\n",
    "baris_3 = ['Clash of Clans', 0.0, 'USD', 2130805, 4.5]\n",
    "baris_4 = ['Temple Run', 0.0, 'USD', 1724546, 4.5]\n",
    "baris_5 = ['Pandora - Music & Radio', 0.0, 'USD', 1126879, 4.0]\n",
    "\n",
    "# Tuliskan jawaban disini\n",
    "rating_fb = baris_1[3] + baris_1[4]\n",
    "rating_insta = baris_2[3] + baris_2[4]\n",
    "rating_pandora = baris_3[3] + baris_3[4]\n",
    "rerata_rating = (rating_fb + rating_insta + rating_pandora)/3\n",
    "print(rerata_rating)"
   ]
  },
  {
   "cell_type": "markdown",
   "metadata": {},
   "source": [
    "---\n",
    "Dalam membuat seuatu program, kita seringkali berhadapan dengan list dengan jumlah elemen yang banyak dan kita harus memilih elemen list dalam rentang index tertentu. Untuk melakukan hal tersebut kita dapat memilihnya dengan format perintah berikut ``nama_list[index_awal:index_akhir]``, contohnya :\n",
    "\n",
    "```python\n",
    "baris_1 = ['Facebook', 0.0, 'USD', 2974676, 3.5]\n",
    "data_slice = baris_1[0:3]\n",
    "print(data_slice)\n",
    "\n",
    "output :\n",
    "    ['Facebook', 0.0, 'USD']\n",
    "```\n",
    "\n",
    "Jika kita ingin memilih n elemen pertama atau n elemen terakhir dari sebuah list dapat dilakukan dengan perintah berikut\n",
    "```python\n",
    "nama_list[:n]\n",
    "nama_list[-n:]\n",
    "```"
   ]
  },
  {
   "cell_type": "code",
   "execution_count": 17,
   "metadata": {},
   "outputs": [
    {
     "name": "stdout",
     "output_type": "stream",
     "text": [
      "['Facebook', 0.0, 'USD']\n",
      "['USD', 2974676, 3.5]\n"
     ]
    }
   ],
   "source": [
    "baris_1 = ['Facebook', 0.0, 'USD', 2974676, 3.5]\n",
    "tiga_awal = baris_1[:3]\n",
    "tiga_akhir = baris_1[-3:]\n",
    "print(tiga_awal)\n",
    "print(tiga_akhir)"
   ]
  },
  {
   "cell_type": "markdown",
   "metadata": {},
   "source": [
    "**Instruksi 2.5** :\n",
    "\n",
    "Diberikan beberapa list seperti pada sel dibawah\n",
    "- Pilih 4 elemen pertama pada list ``baris_1`` dan simpan dalam variabel dengan nama ``fb_4_awal``\n",
    "- Pilih 3 elemen terkahir pada list ``baris_1`` dan simpan dalam variabel dengan nama ``fb_3_akhir``\n",
    "- Dari variabel ``baris_3`` pilih ``['USD`, 2130805]`` dan simpan dalam variabel ``coc_3_4``."
   ]
  },
  {
   "cell_type": "code",
   "execution_count": 10,
   "metadata": {},
   "outputs": [
    {
     "name": "stdout",
     "output_type": "stream",
     "text": [
      "['Facebook', 0.0, 'USD', 2974676]\n",
      "['USD', 2974676, 3.5]\n",
      "['USD', 2130805]\n"
     ]
    }
   ],
   "source": [
    "baris_1 = ['Facebook', 0.0, 'USD', 2974676, 3.5]\n",
    "baris_2 = ['Instagram', 0.0, 'USD', 2161558, 4.5]\n",
    "baris_3 = ['Clash of Clans', 0.0, 'USD', 2130805, 4.5]\n",
    "baris_4 = ['Temple Run', 0.0, 'USD', 1724546, 4.5]\n",
    "baris_5 = ['Pandora - Music & Radio', 0.0, 'USD', 1126879, 4.0]\n",
    "\n",
    "# Tulis jawaban disini\n",
    "fb_4_awal = baris_1[:4]\n",
    "fb_3_akhir = baris_1[-3:]\n",
    "coc_3_4 = baris_3[2:4]\n",
    "print(fb_4_awal)\n",
    "print(fb_3_akhir)\n",
    "print(coc_3_4)"
   ]
  },
  {
   "cell_type": "markdown",
   "metadata": {},
   "source": [
    "---\n",
    "Pada bagian sebelumnya kita menyimpan sebuah list data kedalam satu buah variabel. Jika kita bekerja dengan jumlah data yang sangat banyak memungkinkan untuk memiliki list data yang jumlahnya sangat banyak. Misalnya kita memiliki list data sebanyak 1000 data, berarti kita harus mendifinisikan sebanyak 1000 variabel untuk menyimpan list data tersebut, tentunya cara ini sangat tidak efisien. Untuk membuat code kita menjadi lebih rapi maka kita dapat menyimpan sekumpulan data list kedalam sebuah list, contohnya:"
   ]
  },
  {
   "cell_type": "code",
   "execution_count": 21,
   "metadata": {},
   "outputs": [
    {
     "name": "stdout",
     "output_type": "stream",
     "text": [
      "[['Facebook', 0.0, 'USD', 2974676, 3.5], ['Instagram', 0.0, 'USD', 2161558, 4.5], ['Clash of Clans', 0.0, 'USD', 2130805, 4.5], ['Temple Run', 0.0, 'USD', 1724546, 4.5], ['Pandora - Music & Radio', 0.0, 'USD', 1126879, 4.0]]\n"
     ]
    }
   ],
   "source": [
    "baris_1 = ['Facebook', 0.0, 'USD', 2974676, 3.5]\n",
    "baris_2 = ['Instagram', 0.0, 'USD', 2161558, 4.5]\n",
    "baris_3 = ['Clash of Clans', 0.0, 'USD', 2130805, 4.5]\n",
    "baris_4 = ['Temple Run', 0.0, 'USD', 1724546, 4.5]\n",
    "baris_5 = ['Pandora - Music & Radio', 0.0, 'USD', 1126879, 4.0]\n",
    "\n",
    "dataset = [baris_1, baris_2, baris_3, baris_4, baris_5]\n",
    "print(dataset)"
   ]
  },
  {
   "cell_type": "markdown",
   "metadata": {},
   "source": [
    "---\n",
    "Dari contoh sebelumnya didefinisikan variabel baru ``dataset`` yang juga merupakan list dari data list.\n",
    "- Untuk memanggil ``baris_1`` kita dapat memberikan perintah ``dataset[0]``.\n",
    "- Untuk memanggil ``baris_5`` kita dapat memberikan perintah ``dataset[-1]``.\n",
    "- untuk memanggil ``baris_1`` dan ``baris_2`` kita dapat memberikan perintah ``dataset[:2]``"
   ]
  },
  {
   "cell_type": "code",
   "execution_count": 22,
   "metadata": {},
   "outputs": [
    {
     "name": "stdout",
     "output_type": "stream",
     "text": [
      "['Facebook', 0.0, 'USD', 2974676, 3.5]\n",
      "['Pandora - Music & Radio', 0.0, 'USD', 1126879, 4.0]\n",
      "[['Facebook', 0.0, 'USD', 2974676, 3.5], ['Instagram', 0.0, 'USD', 2161558, 4.5]]\n"
     ]
    }
   ],
   "source": [
    "print(dataset[0])\n",
    "print(dataset[-1])\n",
    "print(dataset[:2])"
   ]
  },
  {
   "cell_type": "markdown",
   "metadata": {},
   "source": [
    "---\n",
    "Jika kita ingin memanggil elemen data dalam ``dataset`` kita dapat melakukannya dengan cara berikut, misalnya kita ingin mengambil elemen ke 4 dari ``baris_1`` dalam ``dataset`` yaitu nilai ``3.5``\n",
    "\n",
    "- pertama kita panggil dulu ``baris_1`` dengan perintah ``dataset[0]``, dan kemudian simpan dalam variabel baru yang kita beri nama ``baris_fb``.\n",
    "- Jika kita print ``baris_fb`` maka akan diperoleh data yang isinya sama dengan ``baris_1``.\n",
    "- Kita ambil bagian terakhir dari  data dalam ``baris_fb`` dengan perintah ``baris_fb[-1]`` dan simpan dalam variabel ``rating_fb``.\n",
    "- Print ``rating_fb`` sehingga hasilnya adalag ``3.5``"
   ]
  },
  {
   "cell_type": "code",
   "execution_count": 23,
   "metadata": {},
   "outputs": [
    {
     "name": "stdout",
     "output_type": "stream",
     "text": [
      "3.5\n"
     ]
    }
   ],
   "source": [
    "baris_fb = dataset[0]\n",
    "rating_fb = baris_fb[-1]\n",
    "print(rating_fb)"
   ]
  },
  {
   "cell_type": "markdown",
   "metadata": {},
   "source": [
    "---\n",
    "Dari cara di atas kita memperoleh nilai ``3.5`` melalui dua cara yaitu pertama memanggil ``dataset[0]`` dan kemudian menjalankan perintah ``rating_fb[-1]``. Adapun cara yang lebih singkat adalah dengan cara berikut :"
   ]
  },
  {
   "cell_type": "code",
   "execution_count": 24,
   "metadata": {},
   "outputs": [
    {
     "name": "stdout",
     "output_type": "stream",
     "text": [
      "3.5\n"
     ]
    }
   ],
   "source": [
    "print(dataset[0][-1])"
   ]
  },
  {
   "cell_type": "markdown",
   "metadata": {},
   "source": [
    "---\n",
    "**Instruksi 2.6** :\n",
    "Dalam sel dibawah telah diberikan 5 baris list.\n",
    "- Gabungkan ke lima list tersebut menjadi sebuah list dan simpan dengan nama variabel ``baris_dataset``\n",
    "- Hitunglah nilai rerata user rating dari ``baris_dataset`` dengan memilih elemen yang sesuai, dan kemudian simpan dalam variabel ``rerata_rating``.\n",
    "* Catatan user rating adalah elemen terakhir dari masing-maising list."
   ]
  },
  {
   "cell_type": "code",
   "execution_count": 11,
   "metadata": {},
   "outputs": [
    {
     "name": "stdout",
     "output_type": "stream",
     "text": [
      "4.2\n"
     ]
    }
   ],
   "source": [
    "baris_1 = ['Facebook', 0.0, 'USD', 2974676, 3.5]\n",
    "baris_2 = ['Instagram', 0.0, 'USD', 2161558, 4.5]\n",
    "baris_3 = ['Clash of Clans', 0.0, 'USD', 2130805, 4.5]\n",
    "baris_4 = ['Temple Run', 0.0, 'USD', 1724546, 4.5]\n",
    "baris_5 = ['Pandora - Music & Radio', 0.0, 'USD', 1126879, 4.0]\n",
    "\n",
    "# Tulis jawaban disini\n",
    "baris_dataset = [baris_1, baris_2, baris_3, baris_4, baris_5]\n",
    "rerata_rating = (baris_dataset[0][4] + baris_dataset[1][4] + baris_dataset[2][4] + baris_dataset[3][4] + baris_dataset[4][4])/5\n",
    "print(rerata_rating)"
   ]
  },
  {
   "cell_type": "markdown",
   "metadata": {},
   "source": [
    "---\n",
    "Sebelumnya kita hanya bekerja dengan data yang jumlahnya sedikit. Sebenarnya data yang kita proses sebelumnya adalah potongan dari data yang banyak yang tersimpan dalam file ``AppleStore.csv``. Jika kita buka file tersebut maka disana terdapat 7.197 baris data dan 16 kolom, sehingga secara total ada sebanyak 7.197 x 16 data poin. Jumlah ini sangat banyak dan akan sangat memakan waktu jika dituliskan secara manual satu per satu. Dengan bahasa python kita dapat memanggil data yang tersimpan di dalam memori komputer dan mengubahnya menjadi susunan list untuk dilakukan proses perhitungan. Adapun cara untuk memanggil file adalah seperti berikut ini :"
   ]
  },
  {
   "cell_type": "code",
   "execution_count": 1,
   "metadata": {},
   "outputs": [
    {
     "data": {
      "text/plain": [
       "<_io.TextIOWrapper name='AppleStore.csv' mode='r' encoding='utf-8'>"
      ]
     },
     "execution_count": 1,
     "metadata": {},
     "output_type": "execute_result"
    }
   ],
   "source": [
    "file_open = open('AppleStore.csv', encoding='utf-8')\n",
    "file_open"
   ]
  },
  {
   "cell_type": "markdown",
   "metadata": {},
   "source": [
    "---\n",
    "untuk membuka file kita dapat menggunakan perintah ``open()``. Setelah file dibuka maka outputnya berupa object ``<_io.TextIOWrapper name='AppleStore.csv' mode='r' encoding='utf-8'>``, penjelasan mengenai object akan dijelaskan pada materi yang lain. Sekarang filenya sudah terbuka dengan perintah ``open()``, selanjutnya adalah membaca isi file. Adapun cara untuk membaca isi file adalah dengan memberikan perintah seperti berikut :"
   ]
  },
  {
   "cell_type": "code",
   "execution_count": 2,
   "metadata": {},
   "outputs": [
    {
     "data": {
      "text/plain": [
       "<_csv.reader at 0x2cc06382ee0>"
      ]
     },
     "execution_count": 2,
     "metadata": {},
     "output_type": "execute_result"
    }
   ],
   "source": [
    "file_open = open('AppleStore.csv', encoding='utf-8')\n",
    "\n",
    "from csv import reader\n",
    "read_file = reader(file_open)\n",
    "read_file"
   ]
  },
  {
   "cell_type": "markdown",
   "metadata": {},
   "source": [
    "---\n",
    "Pada code diatas terlihat perintah ``from csv import reader``, perintah ini disebut module. Kita akan mempelajari module dalam materi selanjutnya. Secara sederhana perintah ``reader`` bukan perintah yang terdapat dalam native python, sehingga kita perlu mengimportnya kedalam file python. Setelah file dibaca, maka akan dihasilkan object ``<_csv.reader at 0x1aa96af2d60>``. Selanjutnya kita ubah bentuknya menjadi list dengan perintah ``list()``, seperti pada code berikut :"
   ]
  },
  {
   "cell_type": "code",
   "execution_count": 3,
   "metadata": {},
   "outputs": [
    {
     "name": "stdout",
     "output_type": "stream",
     "text": [
      "[['', 'id', 'track_name', 'size_bytes', 'currency', 'price', 'rating_count_tot', 'rating_count_ver', 'user_rating', 'user_rating_ver', 'ver', 'cont_rating', 'prime_genre', 'sup_devices.num', 'ipadSc_urls.num', 'lang.num', 'vpp_lic'], ['1', '281656475', 'PAC-MAN Premium', '100788224', 'USD', '3.99', '21292', '26', '4', '4.5', '6.3.5', '4+', 'Games', '38', '5', '10', '1'], ['2', '281796108', 'Evernote - stay organized', '158578688', 'USD', '0', '161065', '26', '4', '3.5', '8.2.2', '4+', 'Productivity', '37', '5', '23', '1'], ['3', '281940292', 'WeatherBug - Local Weather, Radar, Maps, Alerts', '100524032', 'USD', '0', '188583', '2822', '3.5', '4.5', '5.0.0', '4+', 'Weather', '37', '5', '3', '1'], ['4', '282614216', 'eBay: Best App to Buy, Sell, Save! Online Shopping', '128512000', 'USD', '0', '262241', '649', '4', '4.5', '5.10.0', '12+', 'Shopping', '37', '5', '9', '1']]\n"
     ]
    }
   ],
   "source": [
    "file_open = open('AppleStore.csv', encoding='utf-8')\n",
    "\n",
    "from csv import reader\n",
    "read_file = reader(file_open)\n",
    "apps_data = list(read_file)\n",
    "\n",
    "print(apps_data[:5])  # print list pada 5 urutan pertama"
   ]
  },
  {
   "cell_type": "markdown",
   "metadata": {},
   "source": [
    "---\n",
    "Untuk mengetahui banyaknya list yang tersimpan dalam variabel ``apps_data``, maka kita dapat menggunakan perintah ``len()``, sebagai berikut"
   ]
  },
  {
   "cell_type": "code",
   "execution_count": 5,
   "metadata": {},
   "outputs": [
    {
     "data": {
      "text/plain": [
       "7198"
      ]
     },
     "execution_count": 5,
     "metadata": {},
     "output_type": "execute_result"
    }
   ],
   "source": [
    "len(apps_data)"
   ]
  },
  {
   "cell_type": "markdown",
   "metadata": {},
   "source": [
    "---\n",
    "Dimana terlihat terdapat sebanyak 7198 baris data, dimana dengan 1 baris data pada bagian awal merupakan list nama kolom.\n",
    "\n",
    "**Instruksi 2.7** :\n",
    "Buka file ``AppleStore.csv`` dan simpan dalam bentuk list.\n",
    "- Buka file dengan perintah ``open()``, dan simpan dalam variabel baru dengan nama ``file_open``\n",
    "- Baca file yang telah dibuka dengan perintah ``reader`` yang diimport dari module ``csv``, dan simpan hasilnya dalam variabel ``read_file``\n",
    "- Ubahlah ``read_file`` menjadi bentuk list dengan menggunakan perintah ``list()`` dan simpan dalam variabel ``apps_data``\n",
    "- Print total elemen dalam list ``apps_data`` dengen perintah ``len()``\n",
    "- Print baris pertama (baris yang menyimpan nama kolom)\n",
    "- Print baris kedua dan ketiga (coba dengan index rentang / potongan list)"
   ]
  },
  {
   "cell_type": "code",
   "execution_count": 12,
   "metadata": {},
   "outputs": [
    {
     "name": "stdout",
     "output_type": "stream",
     "text": [
      "7198\n",
      "['', 'id', 'track_name', 'size_bytes', 'currency', 'price', 'rating_count_tot', 'rating_count_ver', 'user_rating', 'user_rating_ver', 'ver', 'cont_rating', 'prime_genre', 'sup_devices.num', 'ipadSc_urls.num', 'lang.num', 'vpp_lic']\n",
      "[['1', '281656475', 'PAC-MAN Premium', '100788224', 'USD', '3.99', '21292', '26', '4', '4.5', '6.3.5', '4+', 'Games', '38', '5', '10', '1'], ['2', '281796108', 'Evernote - stay organized', '158578688', 'USD', '0', '161065', '26', '4', '3.5', '8.2.2', '4+', 'Productivity', '37', '5', '23', '1']]\n"
     ]
    }
   ],
   "source": [
    "# Tulis jawaban disini\n",
    "file_open = open('AppleStore.csv', encoding='utf-8')\n",
    "\n",
    "from csv import reader\n",
    "read_file = reader(file_open)\n",
    "apps_data = list(read_file)\n",
    "print(len(apps_data))\n",
    "print(apps_data[0])\n",
    "print(apps_data[1:3])"
   ]
  },
  {
   "cell_type": "markdown",
   "metadata": {},
   "source": [
    "### 2. For Loop\n",
    "\n",
    "Jika kita memiliki data dalam jumlah yang sangat banyak seperti data ``AppleStore.csv``, dan kemudian kita ingin menghitung nilai rerata user rating, maka kita tidak mungkin mengerjakannya dengan cara manual seperti yang telah kita kerjakan sebelumnya dengan data yang hanya 5 baris. Dalam ``AppleStore.csv`` terdapat 7198 baris data, dimana untuk menghitung nilai rerata rating dilakukan dengan mengambil user rating dari setiap baris kemudian dijumlahkan dan dibagi dengan total data. Proses mengambil data user rating dari setiap baris ini merupakan sebuah proses yang berulang, sehingga kita dapat mengerjakannya dengan meggunakan perintah for loop. Setiap proses yang berulang dan memiliki pola tertentu dapat dikerjakan dengan menggunakan perintah for loop, contohnya."
   ]
  },
  {
   "cell_type": "code",
   "execution_count": 10,
   "metadata": {},
   "outputs": [
    {
     "name": "stdout",
     "output_type": "stream",
     "text": [
      "4.5\n",
      "5\n",
      "3.8\n",
      "4.3\n",
      "4\n",
      "3\n"
     ]
    }
   ],
   "source": [
    "ratings = [4.5, 5, 3.8, 4.3, 4, 3]\n",
    "\n",
    "for elemen in ratings:\n",
    "    print(elemen)"
   ]
  },
  {
   "cell_type": "markdown",
   "metadata": {},
   "source": [
    "---\n",
    "Contoh di atas memanggil elemen penyusun list ``rating`` dan menampilkan datanya satu persatu secara berurutan. Pada iterasi pertama variabel ``elemen`` akan bernilai ``4.5``, iterasi kedua bernilai ``5``, iterasi ketiga ``3.8``, dan seterusnya. Jika kita kembali ke variabel ``dataset``, maka kita akan mengambil elemen dari masing-masing list penyusun ``dataset``."
   ]
  },
  {
   "cell_type": "code",
   "execution_count": 13,
   "metadata": {},
   "outputs": [
    {
     "name": "stdout",
     "output_type": "stream",
     "text": [
      "['Facebook', 0.0, 'USD', 2974676, 3.5]\n",
      "['Instagram', 0.0, 'USD', 2161558, 4.5]\n",
      "['Clash of Clans', 0.0, 'USD', 2130805, 4.5]\n",
      "['Temple Run', 0.0, 'USD', 1724546, 4.5]\n",
      "['Pandora - Music & Radio', 0.0, 'USD', 1126879, 4.0]\n"
     ]
    }
   ],
   "source": [
    "row_1 = ['Facebook', 0.0, 'USD', 2974676, 3.5]\n",
    "row_2 = ['Instagram', 0.0, 'USD', 2161558, 4.5]\n",
    "row_3 = ['Clash of Clans', 0.0, 'USD', 2130805, 4.5]\n",
    "row_4 = ['Temple Run', 0.0, 'USD', 1724546, 4.5]\n",
    "row_5 = ['Pandora - Music & Radio', 0.0, 'USD', 1126879, 4.0]\n",
    "\n",
    "dataset = [row_1, row_2, row_3, row_4, row_5]\n",
    "\n",
    "for elemen in dataset :\n",
    "    rating = elemen\n",
    "    print(rating)"
   ]
  },
  {
   "cell_type": "markdown",
   "metadata": {},
   "source": [
    "---\n",
    "Jika kita ingin mengambil elemen terakhir dari list penyusun ``dataset`` maka dapat dilakukan dengan perintah berikut :"
   ]
  },
  {
   "cell_type": "code",
   "execution_count": 15,
   "metadata": {},
   "outputs": [
    {
     "name": "stdout",
     "output_type": "stream",
     "text": [
      "3.5\n",
      "4.5\n",
      "4.5\n",
      "4.5\n",
      "4.0\n"
     ]
    }
   ],
   "source": [
    "for elemen in dataset :\n",
    "    rating = elemen[-1]\n",
    "    print(rating)"
   ]
  },
  {
   "cell_type": "markdown",
   "metadata": {},
   "source": [
    "**Instruksi 2.8** :\n",
    "Diberikan variabel list seperti pada sel dibawah \n",
    "- Gunakan perintah ``for loop`` dan ``print`` untuk menampilkan total rating (elemen ke 3) dari variabel ``dataset``."
   ]
  },
  {
   "cell_type": "code",
   "execution_count": 13,
   "metadata": {},
   "outputs": [
    {
     "name": "stdout",
     "output_type": "stream",
     "text": [
      "2974676\n",
      "2161558\n",
      "2130805\n",
      "1724546\n",
      "1126879\n"
     ]
    }
   ],
   "source": [
    "row_1 = ['Facebook', 0.0, 'USD', 2974676, 3.5]\n",
    "row_2 = ['Instagram', 0.0, 'USD', 2161558, 4.5]\n",
    "row_3 = ['Clash of Clans', 0.0, 'USD', 2130805, 4.5]\n",
    "row_4 = ['Temple Run', 0.0, 'USD', 1724546, 4.5]\n",
    "row_5 = ['Pandora - Music & Radio', 0.0, 'USD', 1126879, 4.0]\n",
    "\n",
    "dataset = [row_1, row_2, row_3, row_4, row_5]\n",
    "\n",
    "# Tulis jawaban disini\n",
    "for elemen in dataset:\n",
    "    print(elemen[3])"
   ]
  },
  {
   "cell_type": "markdown",
   "metadata": {},
   "source": [
    "---\n",
    "Teknik yang baru kita pelajari disebut sebagai ``looping``. Dengan teknik looping kita dapat memanipulasi atau melakukan operasi matematik pada masing-masing elemen penyusun list."
   ]
  },
  {
   "cell_type": "code",
   "execution_count": 18,
   "metadata": {},
   "outputs": [
    {
     "name": "stdout",
     "output_type": "stream",
     "text": [
      "4\n",
      "10\n",
      "12\n",
      "16\n",
      "18\n"
     ]
    }
   ],
   "source": [
    "data_list = [2,5,6,8,9]\n",
    "\n",
    "for elemen in data_list:\n",
    "    print(elemen*2)"
   ]
  },
  {
   "cell_type": "markdown",
   "metadata": {},
   "source": [
    "Code diluar loop dapat berinteraksi dengan code di dalam loop, contohnya "
   ]
  },
  {
   "cell_type": "code",
   "execution_count": 21,
   "metadata": {},
   "outputs": [
    {
     "name": "stdout",
     "output_type": "stream",
     "text": [
      "1\n",
      "4\n",
      "9\n",
      "16\n",
      "24\n",
      "4.8\n"
     ]
    }
   ],
   "source": [
    "data_list = [1,3,5,7,8]\n",
    "total = 0\n",
    "\n",
    "for elemen in data_list :\n",
    "    total = total + elemen\n",
    "    print(total)\n",
    "print(total/len(data_list))"
   ]
  },
  {
   "cell_type": "markdown",
   "metadata": {},
   "source": [
    "Pada code di atas variabel ``total`` di update dalam setiap iterasinya dijumlahkan dengan elemen. Sehingga cara diatas dapat dipakai untuk menghitung total penjumlahan elemen penyusun sebuah list.\n",
    "\n",
    "**Instruksi 2.9** :\n",
    "Diberikan list seperti pada sel dibawah :\n",
    "- Buatlah variabel ``total`` dan isi dengan nilai ``0``\n",
    "- Iterasikan (looping) pada variabel ``dataset`` (for elemen in dataset)\n",
    "- Ambil user rating (data urutan ke 5) dan simban dalam variabel ``rating``\n",
    "- Update variabel ``total`` dengan menjumlahkannya dengan ``rating``\n",
    "- Diluar loop, bagi nilai rerata rating (yang disimpan dalam ``total``) dengan jumlah data untuk menghitung nilai rerata rating dang simpang dalam variabel ``rerata_rating``"
   ]
  },
  {
   "cell_type": "code",
   "execution_count": 14,
   "metadata": {},
   "outputs": [
    {
     "name": "stdout",
     "output_type": "stream",
     "text": [
      "4.2\n"
     ]
    }
   ],
   "source": [
    "row_1 = ['Facebook', 0.0, 'USD', 2974676, 3.5]\n",
    "row_2 = ['Instagram', 0.0, 'USD', 2161558, 4.5]\n",
    "row_3 = ['Clash of Clans', 0.0, 'USD', 2130805, 4.5]\n",
    "row_4 = ['Temple Run', 0.0, 'USD', 1724546, 4.5]\n",
    "row_5 = ['Pandora - Music & Radio', 0.0, 'USD', 1126879, 4.0]\n",
    "\n",
    "dataset = [row_1, row_2, row_3, row_4, row_5]\n",
    "\n",
    "# Tulis jawaban disini\n",
    "total = 0\n",
    "for elemen in dataset :\n",
    "    total = total + elemen[4]\n",
    "rerata_rating = total/len(dataset)\n",
    "print(rerata_rating)"
   ]
  },
  {
   "cell_type": "markdown",
   "metadata": {},
   "source": [
    "---\n",
    "Selanjutnya kita akan menghitung nilai rerata user rating dari data ``AppleStore.csv`` yang tersimpang dalam database komputer kita. Pertama kita buka file ``AppleStore.csv`` dengan menggunakan perintah ``open()`` dan kemudian mengubahnya menjadi bentuk list."
   ]
  },
  {
   "cell_type": "code",
   "execution_count": 23,
   "metadata": {},
   "outputs": [
    {
     "name": "stdout",
     "output_type": "stream",
     "text": [
      "7198\n",
      "[['', 'id', 'track_name', 'size_bytes', 'currency', 'price', 'rating_count_tot', 'rating_count_ver', 'user_rating', 'user_rating_ver', 'ver', 'cont_rating', 'prime_genre', 'sup_devices.num', 'ipadSc_urls.num', 'lang.num', 'vpp_lic'], ['1', '281656475', 'PAC-MAN Premium', '100788224', 'USD', '3.99', '21292', '26', '4', '4.5', '6.3.5', '4+', 'Games', '38', '5', '10', '1'], ['2', '281796108', 'Evernote - stay organized', '158578688', 'USD', '0', '161065', '26', '4', '3.5', '8.2.2', '4+', 'Productivity', '37', '5', '23', '1'], ['3', '281940292', 'WeatherBug - Local Weather, Radar, Maps, Alerts', '100524032', 'USD', '0', '188583', '2822', '3.5', '4.5', '5.0.0', '4+', 'Weather', '37', '5', '3', '1'], ['4', '282614216', 'eBay: Best App to Buy, Sell, Save! Online Shopping', '128512000', 'USD', '0', '262241', '649', '4', '4.5', '5.10.0', '12+', 'Shopping', '37', '5', '9', '1']]\n"
     ]
    }
   ],
   "source": [
    "from csv import reader\n",
    "\n",
    "open_data = open('AppleStore.csv', encoding='utf-8')\n",
    "read_data = reader(open_data)\n",
    "data = list(read_data)\n",
    "\n",
    "print(len(data))\n",
    "print(data[:5])"
   ]
  },
  {
   "cell_type": "code",
   "execution_count": 24,
   "metadata": {},
   "outputs": [
    {
     "name": "stdout",
     "output_type": "stream",
     "text": [
      "['', 'id', 'track_name', 'size_bytes', 'currency', 'price', 'rating_count_tot', 'rating_count_ver', 'user_rating', 'user_rating_ver', 'ver', 'cont_rating', 'prime_genre', 'sup_devices.num', 'ipadSc_urls.num', 'lang.num', 'vpp_lic']\n"
     ]
    }
   ],
   "source": [
    "print(data[0])"
   ]
  },
  {
   "cell_type": "code",
   "execution_count": 28,
   "metadata": {},
   "outputs": [
    {
     "name": "stdout",
     "output_type": "stream",
     "text": [
      "user_rating\n"
     ]
    }
   ],
   "source": [
    "print(data[0][8])"
   ]
  },
  {
   "cell_type": "markdown",
   "metadata": {},
   "source": [
    "---\n",
    "Dari hasil keluaran perintah ``len(data)`` terlihat jumlah data sebanyak 7198. Pada baris pertama adalah nama kolom, sehingga total data poinnya adalah sebanyak 7197. Kita akan menghitung nilai rerata dari ``user_rating`` yang mana berada pada index ke 8. Sehingga kita dapat menghitungnya dengan perintah ``for loop`` seperti berikut"
   ]
  },
  {
   "cell_type": "code",
   "execution_count": 30,
   "metadata": {},
   "outputs": [
    {
     "ename": "TypeError",
     "evalue": "unsupported operand type(s) for +: 'int' and 'str'",
     "output_type": "error",
     "traceback": [
      "\u001b[1;31m---------------------------------------------------------------------------\u001b[0m",
      "\u001b[1;31mTypeError\u001b[0m                                 Traceback (most recent call last)",
      "\u001b[1;32m<ipython-input-30-c0f4673d0baf>\u001b[0m in \u001b[0;36m<module>\u001b[1;34m\u001b[0m\n\u001b[0;32m      3\u001b[0m \u001b[1;32mfor\u001b[0m \u001b[0melemen\u001b[0m \u001b[1;32min\u001b[0m \u001b[0mdata\u001b[0m\u001b[1;33m:\u001b[0m\u001b[1;33m\u001b[0m\u001b[1;33m\u001b[0m\u001b[0m\n\u001b[0;32m      4\u001b[0m     \u001b[0mrating\u001b[0m \u001b[1;33m=\u001b[0m \u001b[0melemen\u001b[0m\u001b[1;33m[\u001b[0m\u001b[1;36m8\u001b[0m\u001b[1;33m]\u001b[0m\u001b[1;33m\u001b[0m\u001b[1;33m\u001b[0m\u001b[0m\n\u001b[1;32m----> 5\u001b[1;33m     \u001b[0mtotal\u001b[0m \u001b[1;33m=\u001b[0m \u001b[0mtotal\u001b[0m \u001b[1;33m+\u001b[0m \u001b[0mrating\u001b[0m\u001b[1;33m\u001b[0m\u001b[1;33m\u001b[0m\u001b[0m\n\u001b[0m",
      "\u001b[1;31mTypeError\u001b[0m: unsupported operand type(s) for +: 'int' and 'str'"
     ]
    }
   ],
   "source": [
    "total = 0\n",
    "\n",
    "for elemen in data:\n",
    "    rating = elemen[8]\n",
    "    total = total + rating"
   ]
  },
  {
   "cell_type": "markdown",
   "metadata": {},
   "source": [
    "Terdapat error yang menjelaskan bahwa data yang dijumlahkan tidak memiliki tipe yang sama. Variabel ``total`` memiliki tipe ``int`` sedangkan ``rating`` memiliki tipe ``str``. Sehingga agar dapat dijumlahkan maka variabel ``rating`` harus dikonversi dulu menjadi tipe ``int`` atau ``float``. Karena variabel ``rating`` memiliki data yang berbentuk desimal maka kita konversi menjadi tipe ``float``."
   ]
  },
  {
   "cell_type": "code",
   "execution_count": 34,
   "metadata": {},
   "outputs": [
    {
     "ename": "ValueError",
     "evalue": "could not convert string to float: 'user_rating'",
     "output_type": "error",
     "traceback": [
      "\u001b[1;31m---------------------------------------------------------------------------\u001b[0m",
      "\u001b[1;31mValueError\u001b[0m                                Traceback (most recent call last)",
      "\u001b[1;32m<ipython-input-34-ba0f744a366a>\u001b[0m in \u001b[0;36m<module>\u001b[1;34m\u001b[0m\n\u001b[0;32m      2\u001b[0m \u001b[1;33m\u001b[0m\u001b[0m\n\u001b[0;32m      3\u001b[0m \u001b[1;32mfor\u001b[0m \u001b[0melemen\u001b[0m \u001b[1;32min\u001b[0m \u001b[0mdata\u001b[0m\u001b[1;33m:\u001b[0m\u001b[1;33m\u001b[0m\u001b[1;33m\u001b[0m\u001b[0m\n\u001b[1;32m----> 4\u001b[1;33m     \u001b[0mrating\u001b[0m \u001b[1;33m=\u001b[0m \u001b[0mfloat\u001b[0m\u001b[1;33m(\u001b[0m\u001b[0melemen\u001b[0m\u001b[1;33m[\u001b[0m\u001b[1;36m8\u001b[0m\u001b[1;33m]\u001b[0m\u001b[1;33m)\u001b[0m\u001b[1;33m\u001b[0m\u001b[1;33m\u001b[0m\u001b[0m\n\u001b[0m\u001b[0;32m      5\u001b[0m     \u001b[0mtotal\u001b[0m \u001b[1;33m=\u001b[0m \u001b[0mtotal\u001b[0m \u001b[1;33m+\u001b[0m \u001b[0mrating\u001b[0m\u001b[1;33m\u001b[0m\u001b[1;33m\u001b[0m\u001b[0m\n",
      "\u001b[1;31mValueError\u001b[0m: could not convert string to float: 'user_rating'"
     ]
    }
   ],
   "source": [
    "total = 0\n",
    "\n",
    "for elemen in data:\n",
    "    rating = float(elemen[8])\n",
    "    total = total + rating"
   ]
  },
  {
   "cell_type": "markdown",
   "metadata": {},
   "source": [
    "---\n",
    "Sampai disini juga masih terdapat error. Error ini menjelaskan komputer tidak bisa mengkoversi elemen data ``user_rating`` menjadi ``float``. Tentunya ``user_rating`` yang berupa text tidak bisa dikonversi menjadi angka sehingga menghasilkan error. Akan tetapi data dengan elemen ``user_rating`` ini berada pada kolom pertama yang mana merupakan nama kolom yang seharusnya tidak terlibat dalam perhitungan, sehingga kita harus memilih data tanpa mengikutkan data urutan pertama dengan pemilihan index ``data[1:]``."
   ]
  },
  {
   "cell_type": "code",
   "execution_count": 36,
   "metadata": {},
   "outputs": [
    {
     "name": "stdout",
     "output_type": "stream",
     "text": [
      "25383.5\n"
     ]
    }
   ],
   "source": [
    "total = 0\n",
    "\n",
    "for elemen in data[1:]:\n",
    "    rating = float(elemen[8])\n",
    "    total = total + rating\n",
    "print(total)"
   ]
  },
  {
   "cell_type": "markdown",
   "metadata": {},
   "source": [
    "---\n",
    "**Instruksi 2.10** :\n",
    "Hitunglah rerata user rating dari data ``AppleStore.csv``\n",
    "- Bukalah data ``AppleStore.csv`` dan ubah menjadi bentuk list dan simpan dalam variabel ``data``\n",
    "- Buatlah variabel ``rating_sum`` dan isi dengan nilai 0\n",
    "- Looping pada ``data`` dan pastikan tidak mengikutkan baris pertama (nama kolom) dalam looping.\n",
    "- Pilih variabel ``user_rating`` pada urutan ke 8 dan simpan dalam variabel ``rating``. Jangan lupa konversi tipe data dari ``str`` menjadi ``float``.\n",
    "- Update variabel ``rating_sum`` dengan menjumlahkannya dengan nilai ``rating``.\n",
    "- Diluar loop, bagi nilai ``rating_sum`` dengan total data (gunakan perintah ``len(data[1:])``) dan simpan dalam variabel ``rerata_rating``.\n",
    "- Tampilkan nilai ``rerata_rating`` dengan menggunakan perintah ``print()``."
   ]
  },
  {
   "cell_type": "code",
   "execution_count": 26,
   "metadata": {},
   "outputs": [
    {
     "name": "stdout",
     "output_type": "stream",
     "text": [
      "3.526955675976101\n"
     ]
    }
   ],
   "source": [
    "# Tuliskan jawaban disini\n",
    "from csv import reader\n",
    "\n",
    "open_data = open('AppleStore.csv', encoding='utf-8')\n",
    "read_data = reader(open_data)\n",
    "data = list(read_data)\n",
    "\n",
    "rating_sum = 0\n",
    "for elemen in data[1:]:\n",
    "    rating = float(elemen[8])\n",
    "    rating_sum += rating\n",
    "rerata_rating = rating_sum/len(data[1:])\n",
    "print(rerata_rating)"
   ]
  },
  {
   "cell_type": "markdown",
   "metadata": {},
   "source": [
    "---\n",
    "Cara lain untuk menghitung rerata rating adalah dengan cara menyimpan terlebih dahulu nilai rating dalam sebuah list. Untuk menyimpan atau menambahkan data dalam sebuah list kita dapat menggunakan perintah ``append()``. Contoh penggunakan perintah ``append()`` adalah"
   ]
  },
  {
   "cell_type": "code",
   "execution_count": 43,
   "metadata": {},
   "outputs": [
    {
     "name": "stdout",
     "output_type": "stream",
     "text": [
      "[1, 2, 3]\n",
      "[12]\n",
      "[3, 'd', 2, 2.4]\n"
     ]
    }
   ],
   "source": [
    "list_a = [1,2]\n",
    "list_b = []\n",
    "list_c = [3,'d', 2]\n",
    "list_a.append(3)\n",
    "list_b.append(12)\n",
    "list_c.append(2.4)\n",
    "print(list_a)\n",
    "print(list_b)\n",
    "print(list_c)"
   ]
  },
  {
   "cell_type": "markdown",
   "metadata": {},
   "source": [
    "Pada ``list_a`` awalnya telah berisi nilai [``1``,``2``] kemudian perintah `append(3)` menambahkan angka ``3`` kedalam ``list_a``. Begitu juga pada ``list_b`` dan ``list_c`` , dimana nilai `12` dan `2.4` ditambahkan ke masing-masing list. \n",
    "\n",
    "Untuk menghitung nilai rerata dapat dilakukan : \n",
    "- Mengambil nilai `user_rating` dan kemudian di simpan ke dalam sebuah list kosong.\n",
    "- Selanjutnya kita gunakan perintah `sum()` untuk menghitung jumlah total dari nilai `user_rating`\n",
    "- Untuk menghitung nilai reratanya kita bagi hasil dari ``sum()`` dengan total data dengan menggunakan perintah `len()`\n",
    "\n",
    "Contohnya :"
   ]
  },
  {
   "cell_type": "code",
   "execution_count": 44,
   "metadata": {},
   "outputs": [
    {
     "name": "stdout",
     "output_type": "stream",
     "text": [
      "[3.5, 4.5, 4.5, 4.5, 4.0]\n",
      "4.2\n"
     ]
    }
   ],
   "source": [
    "row_1 = ['Facebook', 0.0, 'USD', 2974676, 3.5]\n",
    "row_2 = ['Instagram', 0.0, 'USD', 2161558, 4.5]\n",
    "row_3 = ['Clash of Clans', 0.0, 'USD', 2130805, 4.5]\n",
    "row_4 = ['Temple Run', 0.0, 'USD', 1724546, 4.5]\n",
    "row_5 = ['Pandora - Music & Radio', 0.0, 'USD', 1126879, 4.0]\n",
    "\n",
    "dataset = [row_1, row_2, row_3, row_4, row_5]\n",
    "\n",
    "ratings = []\n",
    "\n",
    "for elemen in dataset:\n",
    "    rating = elemen[-1]\n",
    "    ratings.append(rating)\n",
    "    \n",
    "print(ratings)\n",
    "\n",
    "rerata_rating = sum(ratings)/len(ratings)\n",
    "print(rerata_rating)"
   ]
  },
  {
   "cell_type": "markdown",
   "metadata": {},
   "source": [
    "---\n",
    "**Instruksi 2.11** :\n",
    "Hitunglah nilai rerata `user_rating` dari data `AppleStore.csv` :\n",
    "- Buka dan bacalah data ``AppleStore.csv`` dan ubah menjadi bentuk list dan simpan dalam variabel ``data``\n",
    "- Buatlah list kosong dengan nama ``ratings``\n",
    "- Looping pada elemen ``data[1:]`` dengan perintah ``for``.\n",
    "- Ambil nilai ``user_rating`` (data urutan ke 8) dan simpan dalam variabel ``rating``. Jangan lupa dikonversi menjadi tipe float.\n",
    "- Tambahkan nilai dalam variabel ``rating`` ke dalam list ``ratings`` dengan menggunakan perintah ``append()``\n",
    "- Diluar hitunglah jumlah nilai ``ratings`` menggunakan perintah ``sum()`` dan bagi nilai tersebut dengan banyaknya data ``ratings`` dengan perintah ``len()`` untuk mendapatkan nilai reratanya dan simpan dalam variabel ``rerata_rating``.\n",
    "- Tampilkan ``rerata_rating`` dengan perintah ``print()``"
   ]
  },
  {
   "cell_type": "code",
   "execution_count": 27,
   "metadata": {},
   "outputs": [
    {
     "name": "stdout",
     "output_type": "stream",
     "text": [
      "3.526955675976101\n"
     ]
    }
   ],
   "source": [
    "# Tulis jawaban disini\n",
    "\n",
    "\n",
    "# Tuliskan jawaban disini\n",
    "from csv import reader\n",
    "\n",
    "open_data = open('AppleStore.csv', encoding='utf-8')\n",
    "read_data = reader(open_data)\n",
    "data = list(read_data)\n",
    "\n",
    "ratings = []\n",
    "for elemen in data[1:]:\n",
    "    rating = float(elemen[8])\n",
    "    ratings.append(rating)\n",
    "rerata_rating = sum(ratings)/len(data[1:])\n",
    "print(rerata_rating)"
   ]
  }
 ],
 "metadata": {
  "kernelspec": {
   "display_name": "Python 3",
   "language": "python",
   "name": "python3"
  },
  "language_info": {
   "codemirror_mode": {
    "name": "ipython",
    "version": 3
   },
   "file_extension": ".py",
   "mimetype": "text/x-python",
   "name": "python",
   "nbconvert_exporter": "python",
   "pygments_lexer": "ipython3",
   "version": "3.8.3"
  }
 },
 "nbformat": 4,
 "nbformat_minor": 4
}
